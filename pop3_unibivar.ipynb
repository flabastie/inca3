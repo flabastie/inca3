{
 "cells": [
  {
   "cell_type": "markdown",
   "metadata": {
    "colab_type": "text",
    "id": "73TE79TQA-jl"
   },
   "source": [
    "## pop3_unibivar"
   ]
  },
  {
   "cell_type": "markdown",
   "metadata": {
    "colab_type": "text",
    "id": "ygNIt84q5lSB"
   },
   "source": [
    "### Imports libraries and load csv"
   ]
  },
  {
   "cell_type": "code",
   "execution_count": 1,
   "metadata": {
    "colab": {
     "base_uri": "https://localhost:8080/",
     "height": 34
    },
    "colab_type": "code",
    "executionInfo": {
     "elapsed": 1781,
     "status": "ok",
     "timestamp": 1587044999749,
     "user": {
      "displayName": "Francois Labastie",
      "photoUrl": "https://lh3.googleusercontent.com/a-/AOh14GgjdsEAZ8v1_v77WQtmAamqsn2qduYJvqHYHPWDrQ=s64",
      "userId": "08411018339550602261"
     },
     "user_tz": -120
    },
    "id": "OldNgkS65gV7",
    "outputId": "e5656da2-f247-4a54-d99d-bcf084131af6"
   },
   "outputs": [],
   "source": [
    "# google drive folder access\n",
    "# from google.colab import drive\n",
    "# drive.mount(\"/content/drive\", force_remount=True)\n",
    "\n",
    "import numpy as np\n",
    "import pandas as pd\n",
    "import seaborn as sns\n",
    "import matplotlib.pyplot as plt\n",
    "# sns.set(style=\"ticks\")\n",
    "sns.set(style=\"white\")\n",
    "sns.set_palette(\"GnBu_d\")\n",
    "\n",
    "pd.set_option('display.max_rows', 500)\n",
    "pd.set_option('display.max_columns', 500)\n",
    "pd.set_option('display.width', 1000)\n",
    "\n",
    "# Table df_joined.csv\n",
    "path_df = \"./datas/pop3_df_base.csv\"\n",
    "df_base = pd.read_csv(path_df, sep=',', error_bad_lines=False, index_col=0)"
   ]
  },
  {
   "cell_type": "markdown",
   "metadata": {
    "colab_type": "text",
    "id": "bqyZ7-0V9KUv"
   },
   "source": [
    "### Functions"
   ]
  },
  {
   "cell_type": "code",
   "execution_count": 2,
   "metadata": {
    "colab": {},
    "colab_type": "code",
    "id": "EPwplC2X9OkQ"
   },
   "outputs": [],
   "source": [
    "def description_indiv(df, var_name, old_categ, new_categ, fig_w, fig_h, x_label, y_label, angle=45):\n",
    "\n",
    "  df_base['ID'] = df_base.index\n",
    "  # répartition\n",
    "  data = df.groupby([var_name])['ID'].agg(['count'])\n",
    "  # total individus\n",
    "  total = data['count'].sum()\n",
    "  # calcul pourcentages\n",
    "  data['percent'] = data['count'].apply(lambda x: 100 * x / total)\n",
    "\n",
    "  # reset index\n",
    "  data.reset_index(inplace=True)\n",
    "  data[var_name] = data[var_name].astype(int).astype(str)\n",
    "  # labels replace\n",
    "  data[var_name].replace(to_replace=old_categ, value=new_categ, inplace=True)\n",
    "\n",
    "  # Initialize the matplotlib figure\n",
    "  f, ax = plt.subplots(figsize=(fig_w, fig_h))\n",
    "  sns.despine(left=True, offset=5);\n",
    "\n",
    "  # barplot\n",
    "  sns.barplot(x=var_name, y=\"percent\", data=data[[var_name,'percent']], orient='v')\n",
    "  ax.set_xlabel(x_label)\n",
    "  ax.set_ylabel(y_label)\n",
    "  plt.xticks(rotation=angle)\n",
    "\n",
    "  # display values on bars\n",
    "  for index, row in data.iterrows():\n",
    "    ax.text(row.name,row.percent +1, round(row.percent,2), color='black', ha=\"center\")\n",
    "\n",
    "def df_base_disp(columns_names, fig_w, fig_h):\n",
    "\n",
    "  fig_dims = (fig_w, fig_h)\n",
    "  nb_plots = len(columns_names)\n",
    "  fig, axs = plt.subplots(ncols=nb_plots, figsize=fig_dims)\n",
    "  skewValue = 0\n",
    "  kurtosis = 0\n",
    "\n",
    "  for i, name in enumerate(columns_names):\n",
    "    # print(i, name)\n",
    "    x_data =  df_base[name]\n",
    "    # skewvalue\n",
    "    skewValue = x_data.skew()\n",
    "    # kurtosis\n",
    "    kurtosis = x_data.kurtosis()\n",
    "    disp = \"Skew: %0.3f - kurtosis: %0.3f\" % (skewValue, kurtosis)\n",
    "    # print(disp)\n",
    "\n",
    "    # plot\n",
    "    # ax = sns.kdeplot(x_data, shade=True, ax=axs[i])\n",
    "    ax = sns.distplot(x_data, ax=axs[i])\n",
    "    # add text annotation\n",
    "    ax.set_title(disp)\n",
    "\n",
    "\n",
    "def df_base_dispersion(column_data):\n",
    "  x = column_data\n",
    "\n",
    "  # skewvalue\n",
    "  skewValue = x.skew()\n",
    "  disp = \"Skew: %0.3f\" % skewValue\n",
    "\n",
    "  # plot\n",
    "  sns.kdeplot(x, shade=True);\n",
    "  plt.xlabel(disp)\n",
    "\n",
    "\n",
    "def boxplot(df, x_categ, y_quantiv, old_categ, new_categ, fig_w, fig_h, x_label, y_label, angle=45):\n",
    "\n",
    "  # deactivate warning\n",
    "  pd.set_option('mode.chained_assignment', None)\n",
    "\n",
    "  #  get data\n",
    "  data_f = df[[x_categ, y_quantiv]]\n",
    "  # cast to str\n",
    "  data_f.loc[:,x_categ] = data_f.loc[:,x_categ].astype(int).astype(str)\n",
    "  # labels replace\n",
    "  data_f[x_categ].replace(to_replace=old_categ, value=new_categ, inplace=True)\n",
    "\n",
    "  # Initialize the matplotlib figure\n",
    "  sns.set(style=\"whitegrid\")\n",
    "  sns.set_palette(\"GnBu_d\")\n",
    "  f, ax = plt.subplots(figsize=(fig_w, fig_h))\n",
    "  sns.despine(left=True, offset=5);\n",
    "\n",
    "  # boxplot\n",
    "  ax = sns.boxplot(x=x_categ, y=y_quantiv, data=data_f)\n",
    "  ax.set_xlabel(x_label)\n",
    "  ax.set_ylabel(y_label)\n",
    "  plt.xticks(rotation=angle)"
   ]
  },
  {
   "cell_type": "markdown",
   "metadata": {
    "colab_type": "text",
    "id": "SFgYkiI9Cvs8"
   },
   "source": [
    "### Verification datas"
   ]
  },
  {
   "cell_type": "code",
   "execution_count": 3,
   "metadata": {
    "colab": {
     "base_uri": "https://localhost:8080/",
     "height": 331
    },
    "colab_type": "code",
    "executionInfo": {
     "elapsed": 630,
     "status": "ok",
     "timestamp": 1587045003948,
     "user": {
      "displayName": "Francois Labastie",
      "photoUrl": "https://lh3.googleusercontent.com/a-/AOh14GgjdsEAZ8v1_v77WQtmAamqsn2qduYJvqHYHPWDrQ=s64",
      "userId": "08411018339550602261"
     },
     "user_tz": -120
    },
    "id": "elbXxVRyCtN3",
    "outputId": "04018325-8e72-4521-c8f7-9516dd049751"
   },
   "outputs": [
    {
     "name": "stdout",
     "output_type": "stream",
     "text": [
      "df_base.shape : (2121, 15)\n",
      "Total missing values =  0\n"
     ]
    },
    {
     "data": {
      "text/html": [
       "<div>\n",
       "<style scoped>\n",
       "    .dataframe tbody tr th:only-of-type {\n",
       "        vertical-align: middle;\n",
       "    }\n",
       "\n",
       "    .dataframe tbody tr th {\n",
       "        vertical-align: top;\n",
       "    }\n",
       "\n",
       "    .dataframe thead th {\n",
       "        text-align: right;\n",
       "    }\n",
       "</style>\n",
       "<table border=\"1\" class=\"dataframe\">\n",
       "  <thead>\n",
       "    <tr style=\"text-align: right;\">\n",
       "      <th></th>\n",
       "      <th>tage_PS</th>\n",
       "      <th>revenu</th>\n",
       "      <th>imc</th>\n",
       "      <th>pain_cereales</th>\n",
       "      <th>fruits_legumes</th>\n",
       "      <th>produits_laitiers</th>\n",
       "      <th>viandes_poissons_oeufs</th>\n",
       "      <th>produits_sucres</th>\n",
       "      <th>eau</th>\n",
       "      <th>alcool</th>\n",
       "    </tr>\n",
       "  </thead>\n",
       "  <tbody>\n",
       "    <tr>\n",
       "      <th>count</th>\n",
       "      <td>2121.000000</td>\n",
       "      <td>2121.000000</td>\n",
       "      <td>2121.000000</td>\n",
       "      <td>2121.000000</td>\n",
       "      <td>2121.000000</td>\n",
       "      <td>2121.000000</td>\n",
       "      <td>2121.000000</td>\n",
       "      <td>2121.000000</td>\n",
       "      <td>2121.000000</td>\n",
       "      <td>2121.000000</td>\n",
       "    </tr>\n",
       "    <tr>\n",
       "      <th>mean</th>\n",
       "      <td>7.871759</td>\n",
       "      <td>8.571429</td>\n",
       "      <td>25.768907</td>\n",
       "      <td>114.817111</td>\n",
       "      <td>157.652167</td>\n",
       "      <td>177.531658</td>\n",
       "      <td>57.376445</td>\n",
       "      <td>84.080052</td>\n",
       "      <td>912.271482</td>\n",
       "      <td>184.590626</td>\n",
       "    </tr>\n",
       "    <tr>\n",
       "      <th>std</th>\n",
       "      <td>0.770664</td>\n",
       "      <td>3.590831</td>\n",
       "      <td>4.812153</td>\n",
       "      <td>88.125929</td>\n",
       "      <td>116.004836</td>\n",
       "      <td>144.294283</td>\n",
       "      <td>48.907099</td>\n",
       "      <td>63.100138</td>\n",
       "      <td>579.819760</td>\n",
       "      <td>226.407082</td>\n",
       "    </tr>\n",
       "    <tr>\n",
       "      <th>min</th>\n",
       "      <td>7.000000</td>\n",
       "      <td>1.000000</td>\n",
       "      <td>15.776830</td>\n",
       "      <td>0.535714</td>\n",
       "      <td>1.010000</td>\n",
       "      <td>1.442857</td>\n",
       "      <td>0.128143</td>\n",
       "      <td>1.428572</td>\n",
       "      <td>6.696428</td>\n",
       "      <td>0.735714</td>\n",
       "    </tr>\n",
       "    <tr>\n",
       "      <th>25%</th>\n",
       "      <td>7.000000</td>\n",
       "      <td>6.000000</td>\n",
       "      <td>22.321428</td>\n",
       "      <td>52.540625</td>\n",
       "      <td>74.000000</td>\n",
       "      <td>89.285713</td>\n",
       "      <td>23.107144</td>\n",
       "      <td>41.321426</td>\n",
       "      <td>482.991090</td>\n",
       "      <td>102.973230</td>\n",
       "    </tr>\n",
       "    <tr>\n",
       "      <th>50%</th>\n",
       "      <td>8.000000</td>\n",
       "      <td>9.000000</td>\n",
       "      <td>25.050505</td>\n",
       "      <td>96.244995</td>\n",
       "      <td>140.375007</td>\n",
       "      <td>149.958043</td>\n",
       "      <td>51.785294</td>\n",
       "      <td>72.024956</td>\n",
       "      <td>815.714330</td>\n",
       "      <td>133.078422</td>\n",
       "    </tr>\n",
       "    <tr>\n",
       "      <th>75%</th>\n",
       "      <td>8.000000</td>\n",
       "      <td>12.000000</td>\n",
       "      <td>28.405504</td>\n",
       "      <td>152.250000</td>\n",
       "      <td>211.428570</td>\n",
       "      <td>209.748810</td>\n",
       "      <td>73.528908</td>\n",
       "      <td>108.571423</td>\n",
       "      <td>1222.499996</td>\n",
       "      <td>175.714280</td>\n",
       "    </tr>\n",
       "    <tr>\n",
       "      <th>max</th>\n",
       "      <td>9.000000</td>\n",
       "      <td>13.000000</td>\n",
       "      <td>50.117188</td>\n",
       "      <td>644.872680</td>\n",
       "      <td>962.928590</td>\n",
       "      <td>2007.288030</td>\n",
       "      <td>400.714290</td>\n",
       "      <td>447.674010</td>\n",
       "      <td>3896.473400</td>\n",
       "      <td>6209.856900</td>\n",
       "    </tr>\n",
       "  </tbody>\n",
       "</table>\n",
       "</div>"
      ],
      "text/plain": [
       "           tage_PS       revenu          imc  pain_cereales  fruits_legumes  produits_laitiers  viandes_poissons_oeufs  produits_sucres          eau       alcool\n",
       "count  2121.000000  2121.000000  2121.000000    2121.000000     2121.000000        2121.000000             2121.000000      2121.000000  2121.000000  2121.000000\n",
       "mean      7.871759     8.571429    25.768907     114.817111      157.652167         177.531658               57.376445        84.080052   912.271482   184.590626\n",
       "std       0.770664     3.590831     4.812153      88.125929      116.004836         144.294283               48.907099        63.100138   579.819760   226.407082\n",
       "min       7.000000     1.000000    15.776830       0.535714        1.010000           1.442857                0.128143         1.428572     6.696428     0.735714\n",
       "25%       7.000000     6.000000    22.321428      52.540625       74.000000          89.285713               23.107144        41.321426   482.991090   102.973230\n",
       "50%       8.000000     9.000000    25.050505      96.244995      140.375007         149.958043               51.785294        72.024956   815.714330   133.078422\n",
       "75%       8.000000    12.000000    28.405504     152.250000      211.428570         209.748810               73.528908       108.571423  1222.499996   175.714280\n",
       "max       9.000000    13.000000    50.117188     644.872680      962.928590        2007.288030              400.714290       447.674010  3896.473400  6209.856900"
      ]
     },
     "execution_count": 3,
     "metadata": {},
     "output_type": "execute_result"
    }
   ],
   "source": [
    "print('df_base.shape :', df_base.shape)\n",
    "print(\"Total missing values = \", df_base.isna().sum().sum())\n",
    "df_base[['tage_PS', 'revenu', 'imc', 'pain_cereales', 'fruits_legumes', 'produits_laitiers', \n",
    "         'viandes_poissons_oeufs', 'produits_sucres', 'eau', 'alcool']].describe()"
   ]
  },
  {
   "cell_type": "code",
   "execution_count": 4,
   "metadata": {
    "colab": {
     "base_uri": "https://localhost:8080/",
     "height": 224
    },
    "colab_type": "code",
    "executionInfo": {
     "elapsed": 838,
     "status": "ok",
     "timestamp": 1587045005474,
     "user": {
      "displayName": "Francois Labastie",
      "photoUrl": "https://lh3.googleusercontent.com/a-/AOh14GgjdsEAZ8v1_v77WQtmAamqsn2qduYJvqHYHPWDrQ=s64",
      "userId": "08411018339550602261"
     },
     "user_tz": -120
    },
    "id": "knhFKuHG5mCv",
    "outputId": "d341f498-1a5c-44fb-cac8-ba3ac00a48d0"
   },
   "outputs": [
    {
     "data": {
      "text/html": [
       "<div>\n",
       "<style scoped>\n",
       "    .dataframe tbody tr th:only-of-type {\n",
       "        vertical-align: middle;\n",
       "    }\n",
       "\n",
       "    .dataframe tbody tr th {\n",
       "        vertical-align: top;\n",
       "    }\n",
       "\n",
       "    .dataframe thead th {\n",
       "        text-align: right;\n",
       "    }\n",
       "</style>\n",
       "<table border=\"1\" class=\"dataframe\">\n",
       "  <thead>\n",
       "    <tr style=\"text-align: right;\">\n",
       "      <th></th>\n",
       "      <th>NOIND</th>\n",
       "      <th>agglo_5cl</th>\n",
       "      <th>sex_PS</th>\n",
       "      <th>tage_PS</th>\n",
       "      <th>diplome_interv</th>\n",
       "      <th>revenu</th>\n",
       "      <th>imc</th>\n",
       "      <th>fume</th>\n",
       "      <th>pain_cereales</th>\n",
       "      <th>fruits_legumes</th>\n",
       "      <th>produits_laitiers</th>\n",
       "      <th>viandes_poissons_oeufs</th>\n",
       "      <th>produits_sucres</th>\n",
       "      <th>eau</th>\n",
       "      <th>alcool</th>\n",
       "    </tr>\n",
       "  </thead>\n",
       "  <tbody>\n",
       "    <tr>\n",
       "      <th>0</th>\n",
       "      <td>110100101</td>\n",
       "      <td>1</td>\n",
       "      <td>1</td>\n",
       "      <td>7</td>\n",
       "      <td>3.0</td>\n",
       "      <td>12</td>\n",
       "      <td>18.282312</td>\n",
       "      <td>0.0</td>\n",
       "      <td>60.899998</td>\n",
       "      <td>42.166668</td>\n",
       "      <td>291.533327</td>\n",
       "      <td>87.446669</td>\n",
       "      <td>41.333332</td>\n",
       "      <td>544.16669</td>\n",
       "      <td>133.078422</td>\n",
       "    </tr>\n",
       "    <tr>\n",
       "      <th>1</th>\n",
       "      <td>110100701</td>\n",
       "      <td>1</td>\n",
       "      <td>2</td>\n",
       "      <td>8</td>\n",
       "      <td>3.0</td>\n",
       "      <td>11</td>\n",
       "      <td>23.624619</td>\n",
       "      <td>0.0</td>\n",
       "      <td>24.000000</td>\n",
       "      <td>234.600010</td>\n",
       "      <td>205.357150</td>\n",
       "      <td>1.732143</td>\n",
       "      <td>126.500004</td>\n",
       "      <td>1027.14280</td>\n",
       "      <td>5.771429</td>\n",
       "    </tr>\n",
       "    <tr>\n",
       "      <th>2</th>\n",
       "      <td>110100801</td>\n",
       "      <td>1</td>\n",
       "      <td>1</td>\n",
       "      <td>8</td>\n",
       "      <td>3.0</td>\n",
       "      <td>11</td>\n",
       "      <td>29.949701</td>\n",
       "      <td>1.0</td>\n",
       "      <td>70.349998</td>\n",
       "      <td>63.285717</td>\n",
       "      <td>130.742860</td>\n",
       "      <td>63.482145</td>\n",
       "      <td>118.571420</td>\n",
       "      <td>892.85714</td>\n",
       "      <td>133.078422</td>\n",
       "    </tr>\n",
       "    <tr>\n",
       "      <th>3</th>\n",
       "      <td>110101201</td>\n",
       "      <td>1</td>\n",
       "      <td>1</td>\n",
       "      <td>8</td>\n",
       "      <td>6.0</td>\n",
       "      <td>11</td>\n",
       "      <td>26.141914</td>\n",
       "      <td>0.0</td>\n",
       "      <td>9.900001</td>\n",
       "      <td>258.714290</td>\n",
       "      <td>8.000000</td>\n",
       "      <td>69.600006</td>\n",
       "      <td>130.714280</td>\n",
       "      <td>1160.26788</td>\n",
       "      <td>866.714290</td>\n",
       "    </tr>\n",
       "    <tr>\n",
       "      <th>4</th>\n",
       "      <td>110101401</td>\n",
       "      <td>1</td>\n",
       "      <td>2</td>\n",
       "      <td>9</td>\n",
       "      <td>3.0</td>\n",
       "      <td>6</td>\n",
       "      <td>22.420361</td>\n",
       "      <td>0.0</td>\n",
       "      <td>46.618332</td>\n",
       "      <td>61.333332</td>\n",
       "      <td>250.000000</td>\n",
       "      <td>24.381808</td>\n",
       "      <td>64.666664</td>\n",
       "      <td>295.83333</td>\n",
       "      <td>133.078422</td>\n",
       "    </tr>\n",
       "  </tbody>\n",
       "</table>\n",
       "</div>"
      ],
      "text/plain": [
       "       NOIND  agglo_5cl  sex_PS  tage_PS  diplome_interv  revenu        imc  fume  pain_cereales  fruits_legumes  produits_laitiers  viandes_poissons_oeufs  produits_sucres         eau      alcool\n",
       "0  110100101          1       1        7             3.0      12  18.282312   0.0      60.899998       42.166668         291.533327               87.446669        41.333332   544.16669  133.078422\n",
       "1  110100701          1       2        8             3.0      11  23.624619   0.0      24.000000      234.600010         205.357150                1.732143       126.500004  1027.14280    5.771429\n",
       "2  110100801          1       1        8             3.0      11  29.949701   1.0      70.349998       63.285717         130.742860               63.482145       118.571420   892.85714  133.078422\n",
       "3  110101201          1       1        8             6.0      11  26.141914   0.0       9.900001      258.714290           8.000000               69.600006       130.714280  1160.26788  866.714290\n",
       "4  110101401          1       2        9             3.0       6  22.420361   0.0      46.618332       61.333332         250.000000               24.381808        64.666664   295.83333  133.078422"
      ]
     },
     "execution_count": 4,
     "metadata": {},
     "output_type": "execute_result"
    }
   ],
   "source": [
    "df_base.head()"
   ]
  },
  {
   "cell_type": "code",
   "execution_count": 5,
   "metadata": {
    "colab": {
     "base_uri": "https://localhost:8080/",
     "height": 54
    },
    "colab_type": "code",
    "executionInfo": {
     "elapsed": 558,
     "status": "ok",
     "timestamp": 1587045006709,
     "user": {
      "displayName": "Francois Labastie",
      "photoUrl": "https://lh3.googleusercontent.com/a-/AOh14GgjdsEAZ8v1_v77WQtmAamqsn2qduYJvqHYHPWDrQ=s64",
      "userId": "08411018339550602261"
     },
     "user_tz": -120
    },
    "id": "isABtPJu6Rju",
    "outputId": "82204fd0-f5d5-491d-8c0f-b864b6817520"
   },
   "outputs": [
    {
     "name": "stdout",
     "output_type": "stream",
     "text": [
      "['NOIND', 'agglo_5cl', 'sex_PS', 'tage_PS', 'diplome_interv', 'revenu', 'imc', 'fume', 'pain_cereales', 'fruits_legumes', 'produits_laitiers', 'viandes_poissons_oeufs', 'produits_sucres', 'eau', 'alcool']\n"
     ]
    }
   ],
   "source": [
    "print(list(df_base))"
   ]
  },
  {
   "cell_type": "markdown",
   "metadata": {
    "colab_type": "text",
    "id": "COM2rM849htj"
   },
   "source": [
    "### Describe"
   ]
  },
  {
   "cell_type": "code",
   "execution_count": 6,
   "metadata": {
    "colab": {
     "base_uri": "https://localhost:8080/",
     "height": 297
    },
    "colab_type": "code",
    "executionInfo": {
     "elapsed": 654,
     "status": "ok",
     "timestamp": 1587045008834,
     "user": {
      "displayName": "Francois Labastie",
      "photoUrl": "https://lh3.googleusercontent.com/a-/AOh14GgjdsEAZ8v1_v77WQtmAamqsn2qduYJvqHYHPWDrQ=s64",
      "userId": "08411018339550602261"
     },
     "user_tz": -120
    },
    "id": "wlcH6hqe3OHC",
    "outputId": "dfb0099a-6de5-49a9-f821-0c4903361693"
   },
   "outputs": [
    {
     "data": {
      "text/html": [
       "<div>\n",
       "<style scoped>\n",
       "    .dataframe tbody tr th:only-of-type {\n",
       "        vertical-align: middle;\n",
       "    }\n",
       "\n",
       "    .dataframe tbody tr th {\n",
       "        vertical-align: top;\n",
       "    }\n",
       "\n",
       "    .dataframe thead th {\n",
       "        text-align: right;\n",
       "    }\n",
       "</style>\n",
       "<table border=\"1\" class=\"dataframe\">\n",
       "  <thead>\n",
       "    <tr style=\"text-align: right;\">\n",
       "      <th></th>\n",
       "      <th>imc</th>\n",
       "      <th>pain_cereales</th>\n",
       "      <th>fruits_legumes</th>\n",
       "      <th>produits_laitiers</th>\n",
       "    </tr>\n",
       "  </thead>\n",
       "  <tbody>\n",
       "    <tr>\n",
       "      <th>count</th>\n",
       "      <td>2121.000000</td>\n",
       "      <td>2121.000000</td>\n",
       "      <td>2121.000000</td>\n",
       "      <td>2121.000000</td>\n",
       "    </tr>\n",
       "    <tr>\n",
       "      <th>mean</th>\n",
       "      <td>25.768907</td>\n",
       "      <td>114.817111</td>\n",
       "      <td>157.652167</td>\n",
       "      <td>177.531658</td>\n",
       "    </tr>\n",
       "    <tr>\n",
       "      <th>std</th>\n",
       "      <td>4.812153</td>\n",
       "      <td>88.125929</td>\n",
       "      <td>116.004836</td>\n",
       "      <td>144.294283</td>\n",
       "    </tr>\n",
       "    <tr>\n",
       "      <th>min</th>\n",
       "      <td>15.776830</td>\n",
       "      <td>0.535714</td>\n",
       "      <td>1.010000</td>\n",
       "      <td>1.442857</td>\n",
       "    </tr>\n",
       "    <tr>\n",
       "      <th>25%</th>\n",
       "      <td>22.321428</td>\n",
       "      <td>52.540625</td>\n",
       "      <td>74.000000</td>\n",
       "      <td>89.285713</td>\n",
       "    </tr>\n",
       "    <tr>\n",
       "      <th>50%</th>\n",
       "      <td>25.050505</td>\n",
       "      <td>96.244995</td>\n",
       "      <td>140.375007</td>\n",
       "      <td>149.958043</td>\n",
       "    </tr>\n",
       "    <tr>\n",
       "      <th>75%</th>\n",
       "      <td>28.405504</td>\n",
       "      <td>152.250000</td>\n",
       "      <td>211.428570</td>\n",
       "      <td>209.748810</td>\n",
       "    </tr>\n",
       "    <tr>\n",
       "      <th>max</th>\n",
       "      <td>50.117188</td>\n",
       "      <td>644.872680</td>\n",
       "      <td>962.928590</td>\n",
       "      <td>2007.288030</td>\n",
       "    </tr>\n",
       "  </tbody>\n",
       "</table>\n",
       "</div>"
      ],
      "text/plain": [
       "               imc  pain_cereales  fruits_legumes  produits_laitiers\n",
       "count  2121.000000    2121.000000     2121.000000        2121.000000\n",
       "mean     25.768907     114.817111      157.652167         177.531658\n",
       "std       4.812153      88.125929      116.004836         144.294283\n",
       "min      15.776830       0.535714        1.010000           1.442857\n",
       "25%      22.321428      52.540625       74.000000          89.285713\n",
       "50%      25.050505      96.244995      140.375007         149.958043\n",
       "75%      28.405504     152.250000      211.428570         209.748810\n",
       "max      50.117188     644.872680      962.928590        2007.288030"
      ]
     },
     "execution_count": 6,
     "metadata": {},
     "output_type": "execute_result"
    }
   ],
   "source": [
    "df_base[['imc', 'pain_cereales', 'fruits_legumes', 'produits_laitiers']].describe()"
   ]
  },
  {
   "cell_type": "code",
   "execution_count": 7,
   "metadata": {
    "colab": {
     "base_uri": "https://localhost:8080/",
     "height": 170
    },
    "colab_type": "code",
    "executionInfo": {
     "elapsed": 344,
     "status": "ok",
     "timestamp": 1587045009822,
     "user": {
      "displayName": "Francois Labastie",
      "photoUrl": "https://lh3.googleusercontent.com/a-/AOh14GgjdsEAZ8v1_v77WQtmAamqsn2qduYJvqHYHPWDrQ=s64",
      "userId": "08411018339550602261"
     },
     "user_tz": -120
    },
    "id": "mDEiz_DRVoz0",
    "outputId": "65dbb7cc-25c8-4b92-c2ce-29ceef1b54d8"
   },
   "outputs": [
    {
     "name": "stdout",
     "output_type": "stream",
     "text": [
      "               imc  pain_cereales  fruits_legumes  viandes_poissons_oeufs\n",
      "count  2121.000000    2121.000000     2121.000000             2121.000000\n",
      "mean     25.768907     114.817111      157.652167               57.376445\n",
      "std       4.812153      88.125929      116.004836               48.907099\n",
      "min      15.776830       0.535714        1.010000                0.128143\n",
      "25%      22.321428      52.540625       74.000000               23.107144\n",
      "50%      25.050505      96.244995      140.375007               51.785294\n",
      "75%      28.405504     152.250000      211.428570               73.528908\n",
      "max      50.117188     644.872680      962.928590              400.714290\n"
     ]
    }
   ],
   "source": [
    "print(df_base[['imc', 'pain_cereales', 'fruits_legumes', 'viandes_poissons_oeufs']].describe())"
   ]
  },
  {
   "cell_type": "code",
   "execution_count": 8,
   "metadata": {
    "colab": {
     "base_uri": "https://localhost:8080/",
     "height": 297
    },
    "colab_type": "code",
    "executionInfo": {
     "elapsed": 495,
     "status": "ok",
     "timestamp": 1587045011050,
     "user": {
      "displayName": "Francois Labastie",
      "photoUrl": "https://lh3.googleusercontent.com/a-/AOh14GgjdsEAZ8v1_v77WQtmAamqsn2qduYJvqHYHPWDrQ=s64",
      "userId": "08411018339550602261"
     },
     "user_tz": -120
    },
    "id": "N2oTMmwN3WR5",
    "outputId": "98969bd7-4ce8-4ff1-a524-28580638a7a3"
   },
   "outputs": [
    {
     "data": {
      "text/html": [
       "<div>\n",
       "<style scoped>\n",
       "    .dataframe tbody tr th:only-of-type {\n",
       "        vertical-align: middle;\n",
       "    }\n",
       "\n",
       "    .dataframe tbody tr th {\n",
       "        vertical-align: top;\n",
       "    }\n",
       "\n",
       "    .dataframe thead th {\n",
       "        text-align: right;\n",
       "    }\n",
       "</style>\n",
       "<table border=\"1\" class=\"dataframe\">\n",
       "  <thead>\n",
       "    <tr style=\"text-align: right;\">\n",
       "      <th></th>\n",
       "      <th>viandes_poissons_oeufs</th>\n",
       "      <th>produits_sucres</th>\n",
       "      <th>eau</th>\n",
       "      <th>alcool</th>\n",
       "    </tr>\n",
       "  </thead>\n",
       "  <tbody>\n",
       "    <tr>\n",
       "      <th>count</th>\n",
       "      <td>2121.000000</td>\n",
       "      <td>2121.000000</td>\n",
       "      <td>2121.000000</td>\n",
       "      <td>2121.000000</td>\n",
       "    </tr>\n",
       "    <tr>\n",
       "      <th>mean</th>\n",
       "      <td>57.376445</td>\n",
       "      <td>84.080052</td>\n",
       "      <td>912.271482</td>\n",
       "      <td>184.590626</td>\n",
       "    </tr>\n",
       "    <tr>\n",
       "      <th>std</th>\n",
       "      <td>48.907099</td>\n",
       "      <td>63.100138</td>\n",
       "      <td>579.819760</td>\n",
       "      <td>226.407082</td>\n",
       "    </tr>\n",
       "    <tr>\n",
       "      <th>min</th>\n",
       "      <td>0.128143</td>\n",
       "      <td>1.428572</td>\n",
       "      <td>6.696428</td>\n",
       "      <td>0.735714</td>\n",
       "    </tr>\n",
       "    <tr>\n",
       "      <th>25%</th>\n",
       "      <td>23.107144</td>\n",
       "      <td>41.321426</td>\n",
       "      <td>482.991090</td>\n",
       "      <td>102.973230</td>\n",
       "    </tr>\n",
       "    <tr>\n",
       "      <th>50%</th>\n",
       "      <td>51.785294</td>\n",
       "      <td>72.024956</td>\n",
       "      <td>815.714330</td>\n",
       "      <td>133.078422</td>\n",
       "    </tr>\n",
       "    <tr>\n",
       "      <th>75%</th>\n",
       "      <td>73.528908</td>\n",
       "      <td>108.571423</td>\n",
       "      <td>1222.499996</td>\n",
       "      <td>175.714280</td>\n",
       "    </tr>\n",
       "    <tr>\n",
       "      <th>max</th>\n",
       "      <td>400.714290</td>\n",
       "      <td>447.674010</td>\n",
       "      <td>3896.473400</td>\n",
       "      <td>6209.856900</td>\n",
       "    </tr>\n",
       "  </tbody>\n",
       "</table>\n",
       "</div>"
      ],
      "text/plain": [
       "       viandes_poissons_oeufs  produits_sucres          eau       alcool\n",
       "count             2121.000000      2121.000000  2121.000000  2121.000000\n",
       "mean                57.376445        84.080052   912.271482   184.590626\n",
       "std                 48.907099        63.100138   579.819760   226.407082\n",
       "min                  0.128143         1.428572     6.696428     0.735714\n",
       "25%                 23.107144        41.321426   482.991090   102.973230\n",
       "50%                 51.785294        72.024956   815.714330   133.078422\n",
       "75%                 73.528908       108.571423  1222.499996   175.714280\n",
       "max                400.714290       447.674010  3896.473400  6209.856900"
      ]
     },
     "execution_count": 8,
     "metadata": {},
     "output_type": "execute_result"
    }
   ],
   "source": [
    "df_base[['viandes_poissons_oeufs', 'produits_sucres', 'eau', 'alcool']].describe()"
   ]
  },
  {
   "cell_type": "code",
   "execution_count": 9,
   "metadata": {
    "colab": {
     "base_uri": "https://localhost:8080/",
     "height": 170
    },
    "colab_type": "code",
    "executionInfo": {
     "elapsed": 805,
     "status": "ok",
     "timestamp": 1587045012627,
     "user": {
      "displayName": "Francois Labastie",
      "photoUrl": "https://lh3.googleusercontent.com/a-/AOh14GgjdsEAZ8v1_v77WQtmAamqsn2qduYJvqHYHPWDrQ=s64",
      "userId": "08411018339550602261"
     },
     "user_tz": -120
    },
    "id": "loaBLHN3VsG8",
    "outputId": "035d306f-4a3b-4c17-92ce-ca2050753fac"
   },
   "outputs": [
    {
     "name": "stdout",
     "output_type": "stream",
     "text": [
      "       produits_laitiers  produits_sucres          eau       alcool\n",
      "count        2121.000000      2121.000000  2121.000000  2121.000000\n",
      "mean          177.531658        84.080052   912.271482   184.590626\n",
      "std           144.294283        63.100138   579.819760   226.407082\n",
      "min             1.442857         1.428572     6.696428     0.735714\n",
      "25%            89.285713        41.321426   482.991090   102.973230\n",
      "50%           149.958043        72.024956   815.714330   133.078422\n",
      "75%           209.748810       108.571423  1222.499996   175.714280\n",
      "max          2007.288030       447.674010  3896.473400  6209.856900\n"
     ]
    }
   ],
   "source": [
    "print(df_base[['produits_laitiers', 'produits_sucres', 'eau', 'alcool']].describe())"
   ]
  },
  {
   "cell_type": "markdown",
   "metadata": {
    "colab_type": "text",
    "id": "INhuJ1IN9Ymu"
   },
   "source": [
    "## Univar"
   ]
  },
  {
   "cell_type": "code",
   "execution_count": 10,
   "metadata": {
    "colab": {
     "base_uri": "https://localhost:8080/",
     "height": 220
    },
    "colab_type": "code",
    "executionInfo": {
     "elapsed": 520,
     "status": "ok",
     "timestamp": 1587045014678,
     "user": {
      "displayName": "Francois Labastie",
      "photoUrl": "https://lh3.googleusercontent.com/a-/AOh14GgjdsEAZ8v1_v77WQtmAamqsn2qduYJvqHYHPWDrQ=s64",
      "userId": "08411018339550602261"
     },
     "user_tz": -120
    },
    "id": "rnEs_Zlk3yHY",
    "outputId": "6a2c0cbc-5211-492e-bef0-46913388cc2a"
   },
   "outputs": [
    {
     "data": {
      "image/png": "[encoded data removed]",
      "text/plain": [
       "<Figure size 144x144 with 1 Axes>"
      ]
     },
     "metadata": {},
     "output_type": "display_data"
    }
   ],
   "source": [
    "description_indiv(df_base, 'sex_PS', ['1', '2'], ['Hommes', 'Femmes'], 2, 2, 'Sexe', 'Individus (%)', 45)"
   ]
  },
  {
   "cell_type": "code",
   "execution_count": 11,
   "metadata": {
    "colab": {
     "base_uri": "https://localhost:8080/",
     "height": 224
    },
    "colab_type": "code",
    "executionInfo": {
     "elapsed": 997,
     "status": "ok",
     "timestamp": 1587045016375,
     "user": {
      "displayName": "Francois Labastie",
      "photoUrl": "https://lh3.googleusercontent.com/a-/AOh14GgjdsEAZ8v1_v77WQtmAamqsn2qduYJvqHYHPWDrQ=s64",
      "userId": "08411018339550602261"
     },
     "user_tz": -120
    },
    "id": "QKUYiGOM9ZFV",
    "outputId": "a84abb5d-0e31-4f8b-d512-5f2dc64e8dbe"
   },
   "outputs": [
    {
     "data": {
      "image/png": "[encoded data removed]",
      "text/plain": [
       "<Figure size 144x144 with 1 Axes>"
      ]
     },
     "metadata": {},
     "output_type": "display_data"
    }
   ],
   "source": [
    "# variable 'tage_PS'\n",
    "description_indiv(df_base, 'tage_PS', \\\n",
    "                  ['1', '2', '3', '4', '5', '6', '7', '8', '9'], \\\n",
    "                  ['0-11 mois', '1-3 ans', '4-6 ans', '7-10 ans', '11-14 ans', '15-17 ans', '18-44 ans', '45-64 ans', '65-79 ans'], \\\n",
    "                  2, 2, 'Ages', 'Individus (%)', 45)"
   ]
  },
  {
   "cell_type": "code",
   "execution_count": 12,
   "metadata": {
    "colab": {
     "base_uri": "https://localhost:8080/",
     "height": 301
    },
    "colab_type": "code",
    "executionInfo": {
     "elapsed": 939,
     "status": "ok",
     "timestamp": 1587045018134,
     "user": {
      "displayName": "Francois Labastie",
      "photoUrl": "https://lh3.googleusercontent.com/a-/AOh14GgjdsEAZ8v1_v77WQtmAamqsn2qduYJvqHYHPWDrQ=s64",
      "userId": "08411018339550602261"
     },
     "user_tz": -120
    },
    "id": "_m2hQymG-Umi",
    "outputId": "dbe59f20-a4a5-4237-e1ed-ca62f2b92a69"
   },
   "outputs": [
    {
     "data": {
      "image/png": "[encoded data removed]",
      "text/plain": [
       "<Figure size 576x216 with 1 Axes>"
      ]
     },
     "metadata": {},
     "output_type": "display_data"
    }
   ],
   "source": [
    "# variable 'revenu'\n",
    "description_indiv(df_base, 'revenu', \\\n",
    "                  ['1', '2', '3', '4', '5', '6', '7', '8', '9', '10', '11', '12', '13'], \\\n",
    "                  ['<380', '[380-530[', '[530-690[', '[690-840[', '[840-990[', \\\n",
    "                   '[990-1300[', '[1300-1600[', '[1600-1900[', '[1900-2200[', \\\n",
    "                   '[2200-2500[', '[2500-3100[', '[3100-4600[', '>=4600'], \\\n",
    "                  8, 3, 'Revenus des foyers en €/mois', 'Individus (%)', 60)"
   ]
  },
  {
   "cell_type": "code",
   "execution_count": 13,
   "metadata": {
    "colab": {
     "base_uri": "https://localhost:8080/",
     "height": 301
    },
    "colab_type": "code",
    "executionInfo": {
     "elapsed": 1342,
     "status": "ok",
     "timestamp": 1587045020280,
     "user": {
      "displayName": "Francois Labastie",
      "photoUrl": "https://lh3.googleusercontent.com/a-/AOh14GgjdsEAZ8v1_v77WQtmAamqsn2qduYJvqHYHPWDrQ=s64",
      "userId": "08411018339550602261"
     },
     "user_tz": -120
    },
    "id": "bvsJjv4u9IeT",
    "outputId": "9c840dcc-b697-4207-85ed-098c2e41a48c"
   },
   "outputs": [
    {
     "data": {
      "image/png": "[encoded data removed]",
      "text/plain": [
       "<Figure size 1296x288 with 2 Axes>"
      ]
     },
     "metadata": {},
     "output_type": "display_data"
    }
   ],
   "source": [
    "df_base_disp(['imc', 'revenu'], 18, 4)"
   ]
  },
  {
   "cell_type": "code",
   "execution_count": 14,
   "metadata": {
    "colab": {
     "base_uri": "https://localhost:8080/",
     "height": 326
    },
    "colab_type": "code",
    "executionInfo": {
     "elapsed": 547,
     "status": "ok",
     "timestamp": 1587045021392,
     "user": {
      "displayName": "Francois Labastie",
      "photoUrl": "https://lh3.googleusercontent.com/a-/AOh14GgjdsEAZ8v1_v77WQtmAamqsn2qduYJvqHYHPWDrQ=s64",
      "userId": "08411018339550602261"
     },
     "user_tz": -120
    },
    "id": "uBkF3Tp0-XQi",
    "outputId": "5d19244c-a5f3-48c8-a1ed-83410d6cd968"
   },
   "outputs": [
    {
     "data": {
      "image/png": "[encoded data removed]",
      "text/plain": [
       "<Figure size 144x288 with 1 Axes>"
      ]
     },
     "metadata": {},
     "output_type": "display_data"
    }
   ],
   "source": [
    "# variables tage_PS & imc\n",
    "boxplot(df_base, 'tage_PS', 'imc', ['7','8', '9'], ['18-44 ans', '45-64 ans', '65-79 ans'], 2, 4, 'Ages', 'imc', angle=45)"
   ]
  },
  {
   "cell_type": "markdown",
   "metadata": {
    "colab_type": "text",
    "id": "L8_kgERkRFmL"
   },
   "source": [
    "## Bivariée"
   ]
  },
  {
   "cell_type": "code",
   "execution_count": 15,
   "metadata": {
    "colab": {
     "base_uri": "https://localhost:8080/",
     "height": 54
    },
    "colab_type": "code",
    "executionInfo": {
     "elapsed": 455,
     "status": "ok",
     "timestamp": 1587045023923,
     "user": {
      "displayName": "Francois Labastie",
      "photoUrl": "https://lh3.googleusercontent.com/a-/AOh14GgjdsEAZ8v1_v77WQtmAamqsn2qduYJvqHYHPWDrQ=s64",
      "userId": "08411018339550602261"
     },
     "user_tz": -120
    },
    "id": "SvcvHHRaV4YN",
    "outputId": "8c7887d3-a38b-4fb0-8fb8-9d745eaa2a29"
   },
   "outputs": [
    {
     "name": "stdout",
     "output_type": "stream",
     "text": [
      "['NOIND', 'agglo_5cl', 'sex_PS', 'tage_PS', 'diplome_interv', 'revenu', 'imc', 'fume', 'pain_cereales', 'fruits_legumes', 'produits_laitiers', 'viandes_poissons_oeufs', 'produits_sucres', 'eau', 'alcool', 'ID']\n"
     ]
    }
   ],
   "source": [
    "print(list(df_base))"
   ]
  },
  {
   "cell_type": "code",
   "execution_count": 16,
   "metadata": {
    "colab": {
     "base_uri": "https://localhost:8080/",
     "height": 457
    },
    "colab_type": "code",
    "executionInfo": {
     "elapsed": 974,
     "status": "ok",
     "timestamp": 1587045025625,
     "user": {
      "displayName": "Francois Labastie",
      "photoUrl": "https://lh3.googleusercontent.com/a-/AOh14GgjdsEAZ8v1_v77WQtmAamqsn2qduYJvqHYHPWDrQ=s64",
      "userId": "08411018339550602261"
     },
     "user_tz": -120
    },
    "id": "_cdn_DYNRGD8",
    "outputId": "9b4e6a71-4c4b-42d6-ef77-2b8d2250a547"
   },
   "outputs": [
    {
     "data": {
      "text/plain": [
       "<matplotlib.axes._subplots.AxesSubplot at 0x1a1aa92750>"
      ]
     },
     "execution_count": 16,
     "metadata": {},
     "output_type": "execute_result"
    },
    {
     "data": {
      "image/png": "[encoded data removed]",
      "text/plain": [
       "<Figure size 432x576 with 2 Axes>"
      ]
     },
     "metadata": {},
     "output_type": "display_data"
    }
   ],
   "source": [
    "# https://seaborn.pydata.org/examples/many_pairwise_correlations.html\n",
    "\n",
    "sns.set(style=\"white\")\n",
    "# sns.set_palette(\"GnBu_d\")\n",
    "\n",
    "selected_columns = ['revenu', 'imc', 'pain_cereales', 'fruits_legumes', 'produits_laitiers', \n",
    "                    'viandes_poissons_oeufs', 'produits_sucres', 'eau', 'alcool']\n",
    "\n",
    "# Generate dataset\n",
    "d = pd.DataFrame(data=df_base[selected_columns].values, columns=selected_columns)\n",
    "\n",
    "# Compute the correlation matrix\n",
    "corr = d.corr()\n",
    "\n",
    "# Generate a mask for the upper triangle\n",
    "mask = np.triu(np.ones_like(corr, dtype=np.bool))\n",
    "\n",
    "# Set up the matplotlib figure\n",
    "f, ax = plt.subplots(figsize=(6, 8))\n",
    "\n",
    "# Generate a custom diverging colormap\n",
    "cmap = sns.diverging_palette(220, 10, as_cmap=True)\n",
    "\n",
    "# Draw the heatmap with the mask and correct aspect ratio\n",
    "sns.heatmap(corr, mask=mask, cmap=cmap, vmax=.3, center=0, square=True, linewidths=.5, cbar_kws={\"shrink\": .5})"
   ]
  },
  {
   "cell_type": "code",
   "execution_count": null,
   "metadata": {
    "colab": {},
    "colab_type": "code",
    "id": "l9UlQdY0WPKb"
   },
   "outputs": [],
   "source": []
  },
  {
   "cell_type": "code",
   "execution_count": null,
   "metadata": {},
   "outputs": [],
   "source": []
  }
 ],
 "metadata": {
  "colab": {
   "authorship_tag": "ABX9TyM3/Y7RVGcmLkV+2mQTC7OR",
   "collapsed_sections": [],
   "name": "pop3_unibivar.ipynb",
   "provenance": []
  },
  "kernelspec": {
   "display_name": "Python 3",
   "language": "python",
   "name": "python3"
  },
  "language_info": {
   "codemirror_mode": {
    "name": "ipython",
    "version": 3
   },
   "file_extension": ".py",
   "mimetype": "text/x-python",
   "name": "python",
   "nbconvert_exporter": "python",
   "pygments_lexer": "ipython3",
   "version": "3.7.7"
  }
 },
 "nbformat": 4,
 "nbformat_minor": 1
}
