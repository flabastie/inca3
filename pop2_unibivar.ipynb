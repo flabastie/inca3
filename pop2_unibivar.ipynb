{
 "cells": [
  {
   "cell_type": "markdown",
   "metadata": {
    "colab_type": "text",
    "id": "d0GlSHYgBLbb"
   },
   "source": [
    "## pop2_unibivar"
   ]
  },
  {
   "cell_type": "markdown",
   "metadata": {
    "colab_type": "text",
    "id": "ygNIt84q5lSB"
   },
   "source": [
    "### Imports libraries and load csv"
   ]
  },
  {
   "cell_type": "code",
   "execution_count": 1,
   "metadata": {
    "colab": {
     "base_uri": "https://localhost:8080/",
     "height": 34
    },
    "colab_type": "code",
    "executionInfo": {
     "elapsed": 1685,
     "status": "ok",
     "timestamp": 1587153102386,
     "user": {
      "displayName": "Francois Labastie",
      "photoUrl": "https://lh3.googleusercontent.com/a-/AOh14GgjdsEAZ8v1_v77WQtmAamqsn2qduYJvqHYHPWDrQ=s64",
      "userId": "08411018339550602261"
     },
     "user_tz": -120
    },
    "id": "OldNgkS65gV7",
    "outputId": "5dc0bc65-5c0a-4df7-d5fe-d8f0a2abfaac"
   },
   "outputs": [],
   "source": [
    "# google drive folder access\n",
    "# from google.colab import drive\n",
    "# drive.mount(\"/content/drive\", force_remount=True)\n",
    "\n",
    "import numpy as np\n",
    "import pandas as pd\n",
    "import seaborn as sns\n",
    "import matplotlib.pyplot as plt\n",
    "# sns.set(style=\"ticks\")\n",
    "sns.set(style=\"white\")\n",
    "sns.set_palette(\"GnBu_d\")\n",
    "# import statsmodels.formula.api as smf\n",
    "\n",
    "pd.set_option('display.max_rows', 500)\n",
    "pd.set_option('display.max_columns', 500)\n",
    "pd.set_option('display.width', 1000)\n",
    "\n",
    "# Table df_joined.csv\n",
    "path_df = \"./datas/pop2_df_base.csv\"\n",
    "df_base = pd.read_csv(path_df, sep=',', error_bad_lines=False, index_col=0)"
   ]
  },
  {
   "cell_type": "markdown",
   "metadata": {
    "colab_type": "text",
    "id": "84-9vFMe72Fn"
   },
   "source": [
    "### Functions"
   ]
  },
  {
   "cell_type": "code",
   "execution_count": 2,
   "metadata": {
    "colab": {},
    "colab_type": "code",
    "id": "N_8AXvNT74ZC"
   },
   "outputs": [],
   "source": [
    "def description_indiv(df, var_name, old_categ, new_categ, fig_w, fig_h, x_label, y_label, angle=45):\n",
    "\n",
    "  df_base['ID'] = df_base.index\n",
    "  # répartition\n",
    "  data = df.groupby([var_name])['ID'].agg(['count'])\n",
    "  # total individus\n",
    "  total = data['count'].sum()\n",
    "  # calcul pourcentages\n",
    "  data['percent'] = data['count'].apply(lambda x: 100 * x / total)\n",
    "\n",
    "  # reset index\n",
    "  data.reset_index(inplace=True)\n",
    "  data[var_name] = data[var_name].astype(int).astype(str)\n",
    "  # labels replace\n",
    "  data[var_name].replace(to_replace=old_categ, value=new_categ, inplace=True)\n",
    "\n",
    "  # Initialize the matplotlib figure\n",
    "  f, ax = plt.subplots(figsize=(fig_w, fig_h))\n",
    "  sns.despine(left=True, offset=5);\n",
    "\n",
    "  # barplot\n",
    "  sns.barplot(x=var_name, y=\"percent\", data=data[[var_name,'percent']], orient='v')\n",
    "  ax.set_xlabel(x_label)\n",
    "  ax.set_ylabel(y_label)\n",
    "  plt.xticks(rotation=angle)\n",
    "\n",
    "  # display values on bars\n",
    "  for index, row in data.iterrows():\n",
    "    ax.text(row.name,row.percent +1, round(row.percent,2), color='black', ha=\"center\")\n",
    "\n",
    "\n",
    "def df_base_disp(columns_names, fig_w, fig_h):\n",
    "\n",
    "  fig_dims = (fig_w, fig_h)\n",
    "  nb_plots = len(columns_names)\n",
    "  fig, axs = plt.subplots(ncols=nb_plots, figsize=fig_dims)\n",
    "  skewValue = 0\n",
    "  kurtosis = 0\n",
    "\n",
    "  for i, name in enumerate(columns_names):\n",
    "    # print(i, name)\n",
    "    x_data =  df_base[name]\n",
    "    # skewvalue\n",
    "    skewValue = x_data.skew()\n",
    "    # kurtosis\n",
    "    kurtosis = x_data.kurtosis()\n",
    "    disp = \"Skew: %0.3f - kurtosis: %0.3f\" % (skewValue, kurtosis)\n",
    "    # print(disp)\n",
    "\n",
    "    # plot\n",
    "    # ax = sns.kdeplot(x_data, shade=True, ax=axs[i])\n",
    "    ax = sns.distplot(x_data, ax=axs[i])\n",
    "    # add text annotation\n",
    "    ax.set_title(disp)\n",
    "\n",
    "\n",
    "def df_base_dispersion(column_data):\n",
    "  x = column_data\n",
    "\n",
    "  # skewvalue\n",
    "  skewValue = x.skew()\n",
    "  disp = \"Skew: %0.3f\" % skewValue\n",
    "\n",
    "  # plot\n",
    "  sns.kdeplot(x, shade=True);\n",
    "  plt.xlabel(disp)\n",
    "\n",
    "\n",
    "def boxplot(df, x_categ, y_quantiv, old_categ, new_categ, fig_w, fig_h, x_label, y_label, angle=45):\n",
    "\n",
    "  # deactivate warning\n",
    "  pd.set_option('mode.chained_assignment', None)\n",
    "\n",
    "  #  get data\n",
    "  data_f = df[[x_categ, y_quantiv]]\n",
    "  # cast to str\n",
    "  data_f.loc[:,x_categ] = data_f.loc[:,x_categ].astype(int).astype(str)\n",
    "  # labels replace\n",
    "  data_f[x_categ].replace(to_replace=old_categ, value=new_categ, inplace=True)\n",
    "\n",
    "  # Initialize the matplotlib figure\n",
    "  sns.set(style=\"whitegrid\")\n",
    "  sns.set_palette(\"GnBu_d\")\n",
    "  f, ax = plt.subplots(figsize=(fig_w, fig_h))\n",
    "  sns.despine(left=True, offset=5);\n",
    "\n",
    "  # boxplot\n",
    "  ax = sns.boxplot(x=x_categ, y=y_quantiv, data=data_f)\n",
    "  ax.set_xlabel(x_label)\n",
    "  ax.set_ylabel(y_label)\n",
    "  plt.xticks(rotation=angle)\n",
    "\n",
    "\n",
    "def df_relplot(df, x_data, y_data):\n",
    "\n",
    "  #  get data\n",
    "  data_f = df_base[[x_data, y_data]]\n",
    "\n",
    "  # Initialize the matplotlib figure\n",
    "  # sns.set(style=\"whitegrid\")\n",
    "  sns.set_palette(\"GnBu_d\")\n",
    "  \n",
    "  # plot\n",
    "  # f, ax = plt.subplots(figsize=(5, 6))\n",
    "  sns.relplot(x=x_data, y=y_data, data=data_f)\n",
    "  # sns.despine()"
   ]
  },
  {
   "cell_type": "markdown",
   "metadata": {
    "colab_type": "text",
    "id": "z66D_GSbB3iu"
   },
   "source": [
    "### Verification datas"
   ]
  },
  {
   "cell_type": "code",
   "execution_count": 3,
   "metadata": {
    "colab": {
     "base_uri": "https://localhost:8080/",
     "height": 351
    },
    "colab_type": "code",
    "executionInfo": {
     "elapsed": 482,
     "status": "ok",
     "timestamp": 1587153109690,
     "user": {
      "displayName": "Francois Labastie",
      "photoUrl": "https://lh3.googleusercontent.com/a-/AOh14GgjdsEAZ8v1_v77WQtmAamqsn2qduYJvqHYHPWDrQ=s64",
      "userId": "08411018339550602261"
     },
     "user_tz": -120
    },
    "id": "fCCW5WfHByza",
    "outputId": "df00fcbb-e3a7-47d1-c925-e09f19ee8832"
   },
   "outputs": [
    {
     "name": "stdout",
     "output_type": "stream",
     "text": [
      "df_base.shape : (2288, 21)\n",
      "Total missing values =  0\n"
     ]
    },
    {
     "data": {
      "text/html": [
       "<div>\n",
       "<style scoped>\n",
       "    .dataframe tbody tr th:only-of-type {\n",
       "        vertical-align: middle;\n",
       "    }\n",
       "\n",
       "    .dataframe tbody tr th {\n",
       "        vertical-align: top;\n",
       "    }\n",
       "\n",
       "    .dataframe thead th {\n",
       "        text-align: right;\n",
       "    }\n",
       "</style>\n",
       "<table border=\"1\" class=\"dataframe\">\n",
       "  <thead>\n",
       "    <tr style=\"text-align: right;\">\n",
       "      <th></th>\n",
       "      <th>tage_PS</th>\n",
       "      <th>diplome_interv</th>\n",
       "      <th>revenu</th>\n",
       "      <th>imc</th>\n",
       "      <th>restaurationrapide_freq</th>\n",
       "      <th>collation_freq</th>\n",
       "      <th>pain_cereales_bio</th>\n",
       "      <th>fruits_legumes_bio</th>\n",
       "      <th>produits_laitiers_bio</th>\n",
       "      <th>viandes_poissons_bio</th>\n",
       "      <th>consommation_bio</th>\n",
       "      <th>tv_duree</th>\n",
       "      <th>ordi_duree</th>\n",
       "      <th>travail_duree</th>\n",
       "      <th>sedentarite_duree</th>\n",
       "      <th>activite_total_duree</th>\n",
       "      <th>activite_domloissport_duree</th>\n",
       "    </tr>\n",
       "  </thead>\n",
       "  <tbody>\n",
       "    <tr>\n",
       "      <th>count</th>\n",
       "      <td>2288.000000</td>\n",
       "      <td>2288.000000</td>\n",
       "      <td>2288.000000</td>\n",
       "      <td>2288.000000</td>\n",
       "      <td>2288.000000</td>\n",
       "      <td>2288.000000</td>\n",
       "      <td>2288.000000</td>\n",
       "      <td>2288.000000</td>\n",
       "      <td>2288.000000</td>\n",
       "      <td>2288.000000</td>\n",
       "      <td>2288.000000</td>\n",
       "      <td>2288.000000</td>\n",
       "      <td>2288.000000</td>\n",
       "      <td>2288.000000</td>\n",
       "      <td>2288.000000</td>\n",
       "      <td>2288.000000</td>\n",
       "      <td>2288.000000</td>\n",
       "    </tr>\n",
       "    <tr>\n",
       "      <th>mean</th>\n",
       "      <td>7.867133</td>\n",
       "      <td>4.582605</td>\n",
       "      <td>8.533217</td>\n",
       "      <td>25.793700</td>\n",
       "      <td>1.569073</td>\n",
       "      <td>2.624239</td>\n",
       "      <td>0.350962</td>\n",
       "      <td>0.392045</td>\n",
       "      <td>0.695367</td>\n",
       "      <td>0.496066</td>\n",
       "      <td>0.428322</td>\n",
       "      <td>3.213525</td>\n",
       "      <td>1.870503</td>\n",
       "      <td>3.506600</td>\n",
       "      <td>6.349799</td>\n",
       "      <td>10.123324</td>\n",
       "      <td>2.398787</td>\n",
       "    </tr>\n",
       "    <tr>\n",
       "      <th>std</th>\n",
       "      <td>0.771601</td>\n",
       "      <td>1.907616</td>\n",
       "      <td>3.575501</td>\n",
       "      <td>4.930130</td>\n",
       "      <td>0.809681</td>\n",
       "      <td>0.975023</td>\n",
       "      <td>0.677961</td>\n",
       "      <td>0.707674</td>\n",
       "      <td>0.928269</td>\n",
       "      <td>0.736328</td>\n",
       "      <td>0.494944</td>\n",
       "      <td>1.760040</td>\n",
       "      <td>1.421218</td>\n",
       "      <td>1.711142</td>\n",
       "      <td>3.216838</td>\n",
       "      <td>3.607025</td>\n",
       "      <td>2.146942</td>\n",
       "    </tr>\n",
       "    <tr>\n",
       "      <th>min</th>\n",
       "      <td>7.000000</td>\n",
       "      <td>1.000000</td>\n",
       "      <td>1.000000</td>\n",
       "      <td>15.776830</td>\n",
       "      <td>1.000000</td>\n",
       "      <td>1.000000</td>\n",
       "      <td>0.000000</td>\n",
       "      <td>0.000000</td>\n",
       "      <td>0.000000</td>\n",
       "      <td>0.000000</td>\n",
       "      <td>0.000000</td>\n",
       "      <td>0.142860</td>\n",
       "      <td>0.077308</td>\n",
       "      <td>0.035714</td>\n",
       "      <td>0.142860</td>\n",
       "      <td>0.119044</td>\n",
       "      <td>0.002976</td>\n",
       "    </tr>\n",
       "    <tr>\n",
       "      <th>25%</th>\n",
       "      <td>7.000000</td>\n",
       "      <td>3.000000</td>\n",
       "      <td>6.000000</td>\n",
       "      <td>22.320882</td>\n",
       "      <td>1.000000</td>\n",
       "      <td>2.000000</td>\n",
       "      <td>0.000000</td>\n",
       "      <td>0.000000</td>\n",
       "      <td>0.000000</td>\n",
       "      <td>0.000000</td>\n",
       "      <td>0.000000</td>\n",
       "      <td>2.000000</td>\n",
       "      <td>1.000000</td>\n",
       "      <td>2.429770</td>\n",
       "      <td>3.999996</td>\n",
       "      <td>7.644349</td>\n",
       "      <td>1.057664</td>\n",
       "    </tr>\n",
       "    <tr>\n",
       "      <th>50%</th>\n",
       "      <td>8.000000</td>\n",
       "      <td>4.000000</td>\n",
       "      <td>9.000000</td>\n",
       "      <td>25.037310</td>\n",
       "      <td>1.184441</td>\n",
       "      <td>2.066871</td>\n",
       "      <td>0.000000</td>\n",
       "      <td>0.000000</td>\n",
       "      <td>0.000000</td>\n",
       "      <td>0.000000</td>\n",
       "      <td>0.000000</td>\n",
       "      <td>3.000000</td>\n",
       "      <td>1.585665</td>\n",
       "      <td>2.429770</td>\n",
       "      <td>6.000000</td>\n",
       "      <td>10.118902</td>\n",
       "      <td>1.773805</td>\n",
       "    </tr>\n",
       "    <tr>\n",
       "      <th>75%</th>\n",
       "      <td>8.000000</td>\n",
       "      <td>6.000000</td>\n",
       "      <td>12.000000</td>\n",
       "      <td>28.394135</td>\n",
       "      <td>2.000000</td>\n",
       "      <td>3.000000</td>\n",
       "      <td>1.000000</td>\n",
       "      <td>1.000000</td>\n",
       "      <td>1.000000</td>\n",
       "      <td>1.000000</td>\n",
       "      <td>1.000000</td>\n",
       "      <td>4.000000</td>\n",
       "      <td>2.250825</td>\n",
       "      <td>5.000000</td>\n",
       "      <td>8.464276</td>\n",
       "      <td>12.416915</td>\n",
       "      <td>3.053947</td>\n",
       "    </tr>\n",
       "    <tr>\n",
       "      <th>max</th>\n",
       "      <td>9.000000</td>\n",
       "      <td>8.000000</td>\n",
       "      <td>13.000000</td>\n",
       "      <td>52.608677</td>\n",
       "      <td>6.000000</td>\n",
       "      <td>5.000000</td>\n",
       "      <td>3.000000</td>\n",
       "      <td>3.000000</td>\n",
       "      <td>3.000000</td>\n",
       "      <td>3.000000</td>\n",
       "      <td>1.000000</td>\n",
       "      <td>9.000000</td>\n",
       "      <td>9.000000</td>\n",
       "      <td>14.271429</td>\n",
       "      <td>16.997459</td>\n",
       "      <td>17.000002</td>\n",
       "      <td>25.830357</td>\n",
       "    </tr>\n",
       "  </tbody>\n",
       "</table>\n",
       "</div>"
      ],
      "text/plain": [
       "           tage_PS  diplome_interv       revenu          imc  restaurationrapide_freq  collation_freq  pain_cereales_bio  fruits_legumes_bio  produits_laitiers_bio  viandes_poissons_bio  consommation_bio     tv_duree   ordi_duree  travail_duree  sedentarite_duree  activite_total_duree  activite_domloissport_duree\n",
       "count  2288.000000     2288.000000  2288.000000  2288.000000              2288.000000     2288.000000        2288.000000         2288.000000            2288.000000           2288.000000       2288.000000  2288.000000  2288.000000    2288.000000        2288.000000           2288.000000                  2288.000000\n",
       "mean      7.867133        4.582605     8.533217    25.793700                 1.569073        2.624239           0.350962            0.392045               0.695367              0.496066          0.428322     3.213525     1.870503       3.506600           6.349799             10.123324                     2.398787\n",
       "std       0.771601        1.907616     3.575501     4.930130                 0.809681        0.975023           0.677961            0.707674               0.928269              0.736328          0.494944     1.760040     1.421218       1.711142           3.216838              3.607025                     2.146942\n",
       "min       7.000000        1.000000     1.000000    15.776830                 1.000000        1.000000           0.000000            0.000000               0.000000              0.000000          0.000000     0.142860     0.077308       0.035714           0.142860              0.119044                     0.002976\n",
       "25%       7.000000        3.000000     6.000000    22.320882                 1.000000        2.000000           0.000000            0.000000               0.000000              0.000000          0.000000     2.000000     1.000000       2.429770           3.999996              7.644349                     1.057664\n",
       "50%       8.000000        4.000000     9.000000    25.037310                 1.184441        2.066871           0.000000            0.000000               0.000000              0.000000          0.000000     3.000000     1.585665       2.429770           6.000000             10.118902                     1.773805\n",
       "75%       8.000000        6.000000    12.000000    28.394135                 2.000000        3.000000           1.000000            1.000000               1.000000              1.000000          1.000000     4.000000     2.250825       5.000000           8.464276             12.416915                     3.053947\n",
       "max       9.000000        8.000000    13.000000    52.608677                 6.000000        5.000000           3.000000            3.000000               3.000000              3.000000          1.000000     9.000000     9.000000      14.271429          16.997459             17.000002                    25.830357"
      ]
     },
     "execution_count": 3,
     "metadata": {},
     "output_type": "execute_result"
    }
   ],
   "source": [
    "print('df_base.shape :', df_base.shape)\n",
    "print(\"Total missing values = \", df_base.isna().sum().sum())\n",
    "df_base[['tage_PS', 'diplome_interv', 'revenu', 'imc', 'restaurationrapide_freq', 'collation_freq', \n",
    "         'pain_cereales_bio', 'fruits_legumes_bio', 'produits_laitiers_bio', 'viandes_poissons_bio', \n",
    "         'consommation_bio', 'tv_duree', 'ordi_duree', 'travail_duree', 'sedentarite_duree', \n",
    "         'activite_total_duree', 'activite_domloissport_duree']].describe()"
   ]
  },
  {
   "cell_type": "code",
   "execution_count": 4,
   "metadata": {
    "colab": {
     "base_uri": "https://localhost:8080/",
     "height": 224
    },
    "colab_type": "code",
    "executionInfo": {
     "elapsed": 511,
     "status": "ok",
     "timestamp": 1587153110985,
     "user": {
      "displayName": "Francois Labastie",
      "photoUrl": "https://lh3.googleusercontent.com/a-/AOh14GgjdsEAZ8v1_v77WQtmAamqsn2qduYJvqHYHPWDrQ=s64",
      "userId": "08411018339550602261"
     },
     "user_tz": -120
    },
    "id": "knhFKuHG5mCv",
    "outputId": "1452ec24-2b8d-4c43-ce86-5a8417a16700"
   },
   "outputs": [
    {
     "data": {
      "text/html": [
       "<div>\n",
       "<style scoped>\n",
       "    .dataframe tbody tr th:only-of-type {\n",
       "        vertical-align: middle;\n",
       "    }\n",
       "\n",
       "    .dataframe tbody tr th {\n",
       "        vertical-align: top;\n",
       "    }\n",
       "\n",
       "    .dataframe thead th {\n",
       "        text-align: right;\n",
       "    }\n",
       "</style>\n",
       "<table border=\"1\" class=\"dataframe\">\n",
       "  <thead>\n",
       "    <tr style=\"text-align: right;\">\n",
       "      <th></th>\n",
       "      <th>NOIND</th>\n",
       "      <th>agglo_5cl</th>\n",
       "      <th>sex_PS</th>\n",
       "      <th>tage_PS</th>\n",
       "      <th>diplome_interv</th>\n",
       "      <th>revenu</th>\n",
       "      <th>imc</th>\n",
       "      <th>fume</th>\n",
       "      <th>restaurationrapide_freq</th>\n",
       "      <th>collation_freq</th>\n",
       "      <th>pain_cereales_bio</th>\n",
       "      <th>fruits_legumes_bio</th>\n",
       "      <th>produits_laitiers_bio</th>\n",
       "      <th>viandes_poissons_bio</th>\n",
       "      <th>consommation_bio</th>\n",
       "      <th>tv_duree</th>\n",
       "      <th>ordi_duree</th>\n",
       "      <th>travail_duree</th>\n",
       "      <th>sedentarite_duree</th>\n",
       "      <th>activite_total_duree</th>\n",
       "      <th>activite_domloissport_duree</th>\n",
       "    </tr>\n",
       "  </thead>\n",
       "  <tbody>\n",
       "    <tr>\n",
       "      <th>0</th>\n",
       "      <td>110100101</td>\n",
       "      <td>1</td>\n",
       "      <td>1</td>\n",
       "      <td>7</td>\n",
       "      <td>3.0</td>\n",
       "      <td>12</td>\n",
       "      <td>18.282312</td>\n",
       "      <td>0.0</td>\n",
       "      <td>2.000000</td>\n",
       "      <td>5.000000</td>\n",
       "      <td>1</td>\n",
       "      <td>0</td>\n",
       "      <td>1.0</td>\n",
       "      <td>0</td>\n",
       "      <td>0.0</td>\n",
       "      <td>2.142860</td>\n",
       "      <td>3.571430</td>\n",
       "      <td>2.429770</td>\n",
       "      <td>8.142860</td>\n",
       "      <td>8.614090</td>\n",
       "      <td>0.110119</td>\n",
       "    </tr>\n",
       "    <tr>\n",
       "      <th>1</th>\n",
       "      <td>110100701</td>\n",
       "      <td>1</td>\n",
       "      <td>2</td>\n",
       "      <td>8</td>\n",
       "      <td>3.0</td>\n",
       "      <td>11</td>\n",
       "      <td>23.624619</td>\n",
       "      <td>0.0</td>\n",
       "      <td>1.000000</td>\n",
       "      <td>1.000000</td>\n",
       "      <td>1</td>\n",
       "      <td>2</td>\n",
       "      <td>2.0</td>\n",
       "      <td>2</td>\n",
       "      <td>1.0</td>\n",
       "      <td>1.928570</td>\n",
       "      <td>0.357140</td>\n",
       "      <td>4.000000</td>\n",
       "      <td>6.666670</td>\n",
       "      <td>10.569450</td>\n",
       "      <td>3.160715</td>\n",
       "    </tr>\n",
       "    <tr>\n",
       "      <th>2</th>\n",
       "      <td>110100801</td>\n",
       "      <td>1</td>\n",
       "      <td>1</td>\n",
       "      <td>8</td>\n",
       "      <td>3.0</td>\n",
       "      <td>11</td>\n",
       "      <td>29.949701</td>\n",
       "      <td>1.0</td>\n",
       "      <td>1.000000</td>\n",
       "      <td>2.066871</td>\n",
       "      <td>0</td>\n",
       "      <td>0</td>\n",
       "      <td>0.0</td>\n",
       "      <td>0</td>\n",
       "      <td>0.0</td>\n",
       "      <td>0.928570</td>\n",
       "      <td>0.142860</td>\n",
       "      <td>2.429770</td>\n",
       "      <td>1.714290</td>\n",
       "      <td>3.015881</td>\n",
       "      <td>1.178572</td>\n",
       "    </tr>\n",
       "    <tr>\n",
       "      <th>3</th>\n",
       "      <td>110101201</td>\n",
       "      <td>1</td>\n",
       "      <td>1</td>\n",
       "      <td>8</td>\n",
       "      <td>6.0</td>\n",
       "      <td>11</td>\n",
       "      <td>26.141914</td>\n",
       "      <td>0.0</td>\n",
       "      <td>1.000000</td>\n",
       "      <td>3.000000</td>\n",
       "      <td>0</td>\n",
       "      <td>0</td>\n",
       "      <td>0.0</td>\n",
       "      <td>0</td>\n",
       "      <td>0.0</td>\n",
       "      <td>3.023461</td>\n",
       "      <td>4.031272</td>\n",
       "      <td>5.714286</td>\n",
       "      <td>13.664864</td>\n",
       "      <td>17.000000</td>\n",
       "      <td>3.422618</td>\n",
       "    </tr>\n",
       "    <tr>\n",
       "      <th>4</th>\n",
       "      <td>110101401</td>\n",
       "      <td>1</td>\n",
       "      <td>2</td>\n",
       "      <td>9</td>\n",
       "      <td>3.0</td>\n",
       "      <td>6</td>\n",
       "      <td>22.420361</td>\n",
       "      <td>0.0</td>\n",
       "      <td>1.184441</td>\n",
       "      <td>2.000000</td>\n",
       "      <td>1</td>\n",
       "      <td>0</td>\n",
       "      <td>3.0</td>\n",
       "      <td>1</td>\n",
       "      <td>1.0</td>\n",
       "      <td>1.500000</td>\n",
       "      <td>1.585665</td>\n",
       "      <td>2.429770</td>\n",
       "      <td>1.500000</td>\n",
       "      <td>3.882939</td>\n",
       "      <td>2.160719</td>\n",
       "    </tr>\n",
       "  </tbody>\n",
       "</table>\n",
       "</div>"
      ],
      "text/plain": [
       "       NOIND  agglo_5cl  sex_PS  tage_PS  diplome_interv  revenu        imc  fume  restaurationrapide_freq  collation_freq  pain_cereales_bio  fruits_legumes_bio  produits_laitiers_bio  viandes_poissons_bio  consommation_bio  tv_duree  ordi_duree  travail_duree  sedentarite_duree  activite_total_duree  activite_domloissport_duree\n",
       "0  110100101          1       1        7             3.0      12  18.282312   0.0                 2.000000        5.000000                  1                   0                    1.0                     0               0.0  2.142860    3.571430       2.429770           8.142860              8.614090                     0.110119\n",
       "1  110100701          1       2        8             3.0      11  23.624619   0.0                 1.000000        1.000000                  1                   2                    2.0                     2               1.0  1.928570    0.357140       4.000000           6.666670             10.569450                     3.160715\n",
       "2  110100801          1       1        8             3.0      11  29.949701   1.0                 1.000000        2.066871                  0                   0                    0.0                     0               0.0  0.928570    0.142860       2.429770           1.714290              3.015881                     1.178572\n",
       "3  110101201          1       1        8             6.0      11  26.141914   0.0                 1.000000        3.000000                  0                   0                    0.0                     0               0.0  3.023461    4.031272       5.714286          13.664864             17.000000                     3.422618\n",
       "4  110101401          1       2        9             3.0       6  22.420361   0.0                 1.184441        2.000000                  1                   0                    3.0                     1               1.0  1.500000    1.585665       2.429770           1.500000              3.882939                     2.160719"
      ]
     },
     "execution_count": 4,
     "metadata": {},
     "output_type": "execute_result"
    }
   ],
   "source": [
    "df_base.head()"
   ]
  },
  {
   "cell_type": "markdown",
   "metadata": {
    "colab_type": "text",
    "id": "3zb4xvf98XPw"
   },
   "source": [
    "### Describe"
   ]
  },
  {
   "cell_type": "code",
   "execution_count": 5,
   "metadata": {
    "colab": {
     "base_uri": "https://localhost:8080/",
     "height": 297
    },
    "colab_type": "code",
    "executionInfo": {
     "elapsed": 525,
     "status": "ok",
     "timestamp": 1587153113462,
     "user": {
      "displayName": "Francois Labastie",
      "photoUrl": "https://lh3.googleusercontent.com/a-/AOh14GgjdsEAZ8v1_v77WQtmAamqsn2qduYJvqHYHPWDrQ=s64",
      "userId": "08411018339550602261"
     },
     "user_tz": -120
    },
    "id": "C-cZvw4u01U8",
    "outputId": "e7440e76-414a-49f2-a183-9f857120efe2"
   },
   "outputs": [
    {
     "data": {
      "text/html": [
       "<div>\n",
       "<style scoped>\n",
       "    .dataframe tbody tr th:only-of-type {\n",
       "        vertical-align: middle;\n",
       "    }\n",
       "\n",
       "    .dataframe tbody tr th {\n",
       "        vertical-align: top;\n",
       "    }\n",
       "\n",
       "    .dataframe thead th {\n",
       "        text-align: right;\n",
       "    }\n",
       "</style>\n",
       "<table border=\"1\" class=\"dataframe\">\n",
       "  <thead>\n",
       "    <tr style=\"text-align: right;\">\n",
       "      <th></th>\n",
       "      <th>imc</th>\n",
       "      <th>tv_duree</th>\n",
       "      <th>ordi_duree</th>\n",
       "      <th>travail_duree</th>\n",
       "      <th>sedentarite_duree</th>\n",
       "    </tr>\n",
       "  </thead>\n",
       "  <tbody>\n",
       "    <tr>\n",
       "      <th>count</th>\n",
       "      <td>2288.000000</td>\n",
       "      <td>2288.000000</td>\n",
       "      <td>2288.000000</td>\n",
       "      <td>2288.000000</td>\n",
       "      <td>2288.000000</td>\n",
       "    </tr>\n",
       "    <tr>\n",
       "      <th>mean</th>\n",
       "      <td>25.793700</td>\n",
       "      <td>3.213525</td>\n",
       "      <td>1.870503</td>\n",
       "      <td>3.506600</td>\n",
       "      <td>6.349799</td>\n",
       "    </tr>\n",
       "    <tr>\n",
       "      <th>std</th>\n",
       "      <td>4.930130</td>\n",
       "      <td>1.760040</td>\n",
       "      <td>1.421218</td>\n",
       "      <td>1.711142</td>\n",
       "      <td>3.216838</td>\n",
       "    </tr>\n",
       "    <tr>\n",
       "      <th>min</th>\n",
       "      <td>15.776830</td>\n",
       "      <td>0.142860</td>\n",
       "      <td>0.077308</td>\n",
       "      <td>0.035714</td>\n",
       "      <td>0.142860</td>\n",
       "    </tr>\n",
       "    <tr>\n",
       "      <th>25%</th>\n",
       "      <td>22.320882</td>\n",
       "      <td>2.000000</td>\n",
       "      <td>1.000000</td>\n",
       "      <td>2.429770</td>\n",
       "      <td>3.999996</td>\n",
       "    </tr>\n",
       "    <tr>\n",
       "      <th>50%</th>\n",
       "      <td>25.037310</td>\n",
       "      <td>3.000000</td>\n",
       "      <td>1.585665</td>\n",
       "      <td>2.429770</td>\n",
       "      <td>6.000000</td>\n",
       "    </tr>\n",
       "    <tr>\n",
       "      <th>75%</th>\n",
       "      <td>28.394135</td>\n",
       "      <td>4.000000</td>\n",
       "      <td>2.250825</td>\n",
       "      <td>5.000000</td>\n",
       "      <td>8.464276</td>\n",
       "    </tr>\n",
       "    <tr>\n",
       "      <th>max</th>\n",
       "      <td>52.608677</td>\n",
       "      <td>9.000000</td>\n",
       "      <td>9.000000</td>\n",
       "      <td>14.271429</td>\n",
       "      <td>16.997459</td>\n",
       "    </tr>\n",
       "  </tbody>\n",
       "</table>\n",
       "</div>"
      ],
      "text/plain": [
       "               imc     tv_duree   ordi_duree  travail_duree  sedentarite_duree\n",
       "count  2288.000000  2288.000000  2288.000000    2288.000000        2288.000000\n",
       "mean     25.793700     3.213525     1.870503       3.506600           6.349799\n",
       "std       4.930130     1.760040     1.421218       1.711142           3.216838\n",
       "min      15.776830     0.142860     0.077308       0.035714           0.142860\n",
       "25%      22.320882     2.000000     1.000000       2.429770           3.999996\n",
       "50%      25.037310     3.000000     1.585665       2.429770           6.000000\n",
       "75%      28.394135     4.000000     2.250825       5.000000           8.464276\n",
       "max      52.608677     9.000000     9.000000      14.271429          16.997459"
      ]
     },
     "execution_count": 5,
     "metadata": {},
     "output_type": "execute_result"
    }
   ],
   "source": [
    "df_base[['imc', 'tv_duree', 'ordi_duree', 'travail_duree', 'sedentarite_duree']].describe()"
   ]
  },
  {
   "cell_type": "code",
   "execution_count": 6,
   "metadata": {
    "colab": {
     "base_uri": "https://localhost:8080/",
     "height": 297
    },
    "colab_type": "code",
    "executionInfo": {
     "elapsed": 498,
     "status": "ok",
     "timestamp": 1587153114827,
     "user": {
      "displayName": "Francois Labastie",
      "photoUrl": "https://lh3.googleusercontent.com/a-/AOh14GgjdsEAZ8v1_v77WQtmAamqsn2qduYJvqHYHPWDrQ=s64",
      "userId": "08411018339550602261"
     },
     "user_tz": -120
    },
    "id": "-bT_mIwY1QIR",
    "outputId": "3a057ccb-94c5-49f8-d271-15789699ff5e"
   },
   "outputs": [
    {
     "data": {
      "text/html": [
       "<div>\n",
       "<style scoped>\n",
       "    .dataframe tbody tr th:only-of-type {\n",
       "        vertical-align: middle;\n",
       "    }\n",
       "\n",
       "    .dataframe tbody tr th {\n",
       "        vertical-align: top;\n",
       "    }\n",
       "\n",
       "    .dataframe thead th {\n",
       "        text-align: right;\n",
       "    }\n",
       "</style>\n",
       "<table border=\"1\" class=\"dataframe\">\n",
       "  <thead>\n",
       "    <tr style=\"text-align: right;\">\n",
       "      <th></th>\n",
       "      <th>activite_total_duree</th>\n",
       "      <th>activite_domloissport_duree</th>\n",
       "    </tr>\n",
       "  </thead>\n",
       "  <tbody>\n",
       "    <tr>\n",
       "      <th>count</th>\n",
       "      <td>2288.000000</td>\n",
       "      <td>2288.000000</td>\n",
       "    </tr>\n",
       "    <tr>\n",
       "      <th>mean</th>\n",
       "      <td>10.123324</td>\n",
       "      <td>2.398787</td>\n",
       "    </tr>\n",
       "    <tr>\n",
       "      <th>std</th>\n",
       "      <td>3.607025</td>\n",
       "      <td>2.146942</td>\n",
       "    </tr>\n",
       "    <tr>\n",
       "      <th>min</th>\n",
       "      <td>0.119044</td>\n",
       "      <td>0.002976</td>\n",
       "    </tr>\n",
       "    <tr>\n",
       "      <th>25%</th>\n",
       "      <td>7.644349</td>\n",
       "      <td>1.057664</td>\n",
       "    </tr>\n",
       "    <tr>\n",
       "      <th>50%</th>\n",
       "      <td>10.118902</td>\n",
       "      <td>1.773805</td>\n",
       "    </tr>\n",
       "    <tr>\n",
       "      <th>75%</th>\n",
       "      <td>12.416915</td>\n",
       "      <td>3.053947</td>\n",
       "    </tr>\n",
       "    <tr>\n",
       "      <th>max</th>\n",
       "      <td>17.000002</td>\n",
       "      <td>25.830357</td>\n",
       "    </tr>\n",
       "  </tbody>\n",
       "</table>\n",
       "</div>"
      ],
      "text/plain": [
       "       activite_total_duree  activite_domloissport_duree\n",
       "count           2288.000000                  2288.000000\n",
       "mean              10.123324                     2.398787\n",
       "std                3.607025                     2.146942\n",
       "min                0.119044                     0.002976\n",
       "25%                7.644349                     1.057664\n",
       "50%               10.118902                     1.773805\n",
       "75%               12.416915                     3.053947\n",
       "max               17.000002                    25.830357"
      ]
     },
     "execution_count": 6,
     "metadata": {},
     "output_type": "execute_result"
    }
   ],
   "source": [
    "df_base[['activite_total_duree', 'activite_domloissport_duree']].describe()"
   ]
  },
  {
   "cell_type": "code",
   "execution_count": 7,
   "metadata": {
    "colab": {
     "base_uri": "https://localhost:8080/",
     "height": 170
    },
    "colab_type": "code",
    "executionInfo": {
     "elapsed": 548,
     "status": "ok",
     "timestamp": 1587153116197,
     "user": {
      "displayName": "Francois Labastie",
      "photoUrl": "https://lh3.googleusercontent.com/a-/AOh14GgjdsEAZ8v1_v77WQtmAamqsn2qduYJvqHYHPWDrQ=s64",
      "userId": "08411018339550602261"
     },
     "user_tz": -120
    },
    "id": "QGU4gu21EBU4",
    "outputId": "450f4b52-2d29-4917-83ff-b16ed4f9b69d"
   },
   "outputs": [
    {
     "name": "stdout",
     "output_type": "stream",
     "text": [
      "               imc     tv_duree   ordi_duree  travail_duree  sedentarite_duree\n",
      "count  2288.000000  2288.000000  2288.000000    2288.000000        2288.000000\n",
      "mean     25.793700     3.213525     1.870503       3.506600           6.349799\n",
      "std       4.930130     1.760040     1.421218       1.711142           3.216838\n",
      "min      15.776830     0.142860     0.077308       0.035714           0.142860\n",
      "25%      22.320882     2.000000     1.000000       2.429770           3.999996\n",
      "50%      25.037310     3.000000     1.585665       2.429770           6.000000\n",
      "75%      28.394135     4.000000     2.250825       5.000000           8.464276\n",
      "max      52.608677     9.000000     9.000000      14.271429          16.997459\n"
     ]
    }
   ],
   "source": [
    "print(df_base[['imc', 'tv_duree', 'ordi_duree', 'travail_duree', 'sedentarite_duree']].describe())"
   ]
  },
  {
   "cell_type": "code",
   "execution_count": 8,
   "metadata": {
    "colab": {
     "base_uri": "https://localhost:8080/",
     "height": 170
    },
    "colab_type": "code",
    "executionInfo": {
     "elapsed": 477,
     "status": "ok",
     "timestamp": 1587153117452,
     "user": {
      "displayName": "Francois Labastie",
      "photoUrl": "https://lh3.googleusercontent.com/a-/AOh14GgjdsEAZ8v1_v77WQtmAamqsn2qduYJvqHYHPWDrQ=s64",
      "userId": "08411018339550602261"
     },
     "user_tz": -120
    },
    "id": "xRwvxyqEHI42",
    "outputId": "f4acd3c6-9b35-4c11-c665-9b47e13039cb"
   },
   "outputs": [
    {
     "name": "stdout",
     "output_type": "stream",
     "text": [
      "       activite_total_duree  activite_domloissport_duree\n",
      "count           2288.000000                  2288.000000\n",
      "mean              10.123324                     2.398787\n",
      "std                3.607025                     2.146942\n",
      "min                0.119044                     0.002976\n",
      "25%                7.644349                     1.057664\n",
      "50%               10.118902                     1.773805\n",
      "75%               12.416915                     3.053947\n",
      "max               17.000002                    25.830357\n"
     ]
    }
   ],
   "source": [
    "print(df_base[['activite_total_duree', 'activite_domloissport_duree']].describe())"
   ]
  },
  {
   "cell_type": "code",
   "execution_count": 9,
   "metadata": {
    "colab": {
     "base_uri": "https://localhost:8080/",
     "height": 297
    },
    "colab_type": "code",
    "executionInfo": {
     "elapsed": 506,
     "status": "ok",
     "timestamp": 1587153118730,
     "user": {
      "displayName": "Francois Labastie",
      "photoUrl": "https://lh3.googleusercontent.com/a-/AOh14GgjdsEAZ8v1_v77WQtmAamqsn2qduYJvqHYHPWDrQ=s64",
      "userId": "08411018339550602261"
     },
     "user_tz": -120
    },
    "id": "7ZiJ-li02Uow",
    "outputId": "fbc95501-515e-4c4c-b0e1-b284025dad44"
   },
   "outputs": [
    {
     "data": {
      "text/html": [
       "<div>\n",
       "<style scoped>\n",
       "    .dataframe tbody tr th:only-of-type {\n",
       "        vertical-align: middle;\n",
       "    }\n",
       "\n",
       "    .dataframe tbody tr th {\n",
       "        vertical-align: top;\n",
       "    }\n",
       "\n",
       "    .dataframe thead th {\n",
       "        text-align: right;\n",
       "    }\n",
       "</style>\n",
       "<table border=\"1\" class=\"dataframe\">\n",
       "  <thead>\n",
       "    <tr style=\"text-align: right;\">\n",
       "      <th></th>\n",
       "      <th>pain_cereales_bio</th>\n",
       "      <th>fruits_legumes_bio</th>\n",
       "      <th>produits_laitiers_bio</th>\n",
       "      <th>viandes_poissons_bio</th>\n",
       "    </tr>\n",
       "  </thead>\n",
       "  <tbody>\n",
       "    <tr>\n",
       "      <th>count</th>\n",
       "      <td>2288.000000</td>\n",
       "      <td>2288.000000</td>\n",
       "      <td>2288.000000</td>\n",
       "      <td>2288.000000</td>\n",
       "    </tr>\n",
       "    <tr>\n",
       "      <th>mean</th>\n",
       "      <td>0.350962</td>\n",
       "      <td>0.392045</td>\n",
       "      <td>0.695367</td>\n",
       "      <td>0.496066</td>\n",
       "    </tr>\n",
       "    <tr>\n",
       "      <th>std</th>\n",
       "      <td>0.677961</td>\n",
       "      <td>0.707674</td>\n",
       "      <td>0.928269</td>\n",
       "      <td>0.736328</td>\n",
       "    </tr>\n",
       "    <tr>\n",
       "      <th>min</th>\n",
       "      <td>0.000000</td>\n",
       "      <td>0.000000</td>\n",
       "      <td>0.000000</td>\n",
       "      <td>0.000000</td>\n",
       "    </tr>\n",
       "    <tr>\n",
       "      <th>25%</th>\n",
       "      <td>0.000000</td>\n",
       "      <td>0.000000</td>\n",
       "      <td>0.000000</td>\n",
       "      <td>0.000000</td>\n",
       "    </tr>\n",
       "    <tr>\n",
       "      <th>50%</th>\n",
       "      <td>0.000000</td>\n",
       "      <td>0.000000</td>\n",
       "      <td>0.000000</td>\n",
       "      <td>0.000000</td>\n",
       "    </tr>\n",
       "    <tr>\n",
       "      <th>75%</th>\n",
       "      <td>1.000000</td>\n",
       "      <td>1.000000</td>\n",
       "      <td>1.000000</td>\n",
       "      <td>1.000000</td>\n",
       "    </tr>\n",
       "    <tr>\n",
       "      <th>max</th>\n",
       "      <td>3.000000</td>\n",
       "      <td>3.000000</td>\n",
       "      <td>3.000000</td>\n",
       "      <td>3.000000</td>\n",
       "    </tr>\n",
       "  </tbody>\n",
       "</table>\n",
       "</div>"
      ],
      "text/plain": [
       "       pain_cereales_bio  fruits_legumes_bio  produits_laitiers_bio  viandes_poissons_bio\n",
       "count        2288.000000         2288.000000            2288.000000           2288.000000\n",
       "mean            0.350962            0.392045               0.695367              0.496066\n",
       "std             0.677961            0.707674               0.928269              0.736328\n",
       "min             0.000000            0.000000               0.000000              0.000000\n",
       "25%             0.000000            0.000000               0.000000              0.000000\n",
       "50%             0.000000            0.000000               0.000000              0.000000\n",
       "75%             1.000000            1.000000               1.000000              1.000000\n",
       "max             3.000000            3.000000               3.000000              3.000000"
      ]
     },
     "execution_count": 9,
     "metadata": {},
     "output_type": "execute_result"
    }
   ],
   "source": [
    "df_base[['pain_cereales_bio', 'fruits_legumes_bio', 'produits_laitiers_bio', 'viandes_poissons_bio']].describe()"
   ]
  },
  {
   "cell_type": "code",
   "execution_count": 10,
   "metadata": {
    "colab": {
     "base_uri": "https://localhost:8080/",
     "height": 297
    },
    "colab_type": "code",
    "executionInfo": {
     "elapsed": 496,
     "status": "ok",
     "timestamp": 1587153119981,
     "user": {
      "displayName": "Francois Labastie",
      "photoUrl": "https://lh3.googleusercontent.com/a-/AOh14GgjdsEAZ8v1_v77WQtmAamqsn2qduYJvqHYHPWDrQ=s64",
      "userId": "08411018339550602261"
     },
     "user_tz": -120
    },
    "id": "ANZRExtc2hSe",
    "outputId": "794e7143-72d4-4b6d-c1e2-9bc4c5e28fe5"
   },
   "outputs": [
    {
     "data": {
      "text/html": [
       "<div>\n",
       "<style scoped>\n",
       "    .dataframe tbody tr th:only-of-type {\n",
       "        vertical-align: middle;\n",
       "    }\n",
       "\n",
       "    .dataframe tbody tr th {\n",
       "        vertical-align: top;\n",
       "    }\n",
       "\n",
       "    .dataframe thead th {\n",
       "        text-align: right;\n",
       "    }\n",
       "</style>\n",
       "<table border=\"1\" class=\"dataframe\">\n",
       "  <thead>\n",
       "    <tr style=\"text-align: right;\">\n",
       "      <th></th>\n",
       "      <th>restaurationrapide_freq</th>\n",
       "      <th>collation_freq</th>\n",
       "    </tr>\n",
       "  </thead>\n",
       "  <tbody>\n",
       "    <tr>\n",
       "      <th>count</th>\n",
       "      <td>2288.000000</td>\n",
       "      <td>2288.000000</td>\n",
       "    </tr>\n",
       "    <tr>\n",
       "      <th>mean</th>\n",
       "      <td>1.569073</td>\n",
       "      <td>2.624239</td>\n",
       "    </tr>\n",
       "    <tr>\n",
       "      <th>std</th>\n",
       "      <td>0.809681</td>\n",
       "      <td>0.975023</td>\n",
       "    </tr>\n",
       "    <tr>\n",
       "      <th>min</th>\n",
       "      <td>1.000000</td>\n",
       "      <td>1.000000</td>\n",
       "    </tr>\n",
       "    <tr>\n",
       "      <th>25%</th>\n",
       "      <td>1.000000</td>\n",
       "      <td>2.000000</td>\n",
       "    </tr>\n",
       "    <tr>\n",
       "      <th>50%</th>\n",
       "      <td>1.184441</td>\n",
       "      <td>2.066871</td>\n",
       "    </tr>\n",
       "    <tr>\n",
       "      <th>75%</th>\n",
       "      <td>2.000000</td>\n",
       "      <td>3.000000</td>\n",
       "    </tr>\n",
       "    <tr>\n",
       "      <th>max</th>\n",
       "      <td>6.000000</td>\n",
       "      <td>5.000000</td>\n",
       "    </tr>\n",
       "  </tbody>\n",
       "</table>\n",
       "</div>"
      ],
      "text/plain": [
       "       restaurationrapide_freq  collation_freq\n",
       "count              2288.000000     2288.000000\n",
       "mean                  1.569073        2.624239\n",
       "std                   0.809681        0.975023\n",
       "min                   1.000000        1.000000\n",
       "25%                   1.000000        2.000000\n",
       "50%                   1.184441        2.066871\n",
       "75%                   2.000000        3.000000\n",
       "max                   6.000000        5.000000"
      ]
     },
     "execution_count": 10,
     "metadata": {},
     "output_type": "execute_result"
    }
   ],
   "source": [
    "df_base[['restaurationrapide_freq', 'collation_freq']].describe()"
   ]
  },
  {
   "cell_type": "code",
   "execution_count": 11,
   "metadata": {
    "colab": {
     "base_uri": "https://localhost:8080/",
     "height": 170
    },
    "colab_type": "code",
    "executionInfo": {
     "elapsed": 477,
     "status": "ok",
     "timestamp": 1587153121227,
     "user": {
      "displayName": "Francois Labastie",
      "photoUrl": "https://lh3.googleusercontent.com/a-/AOh14GgjdsEAZ8v1_v77WQtmAamqsn2qduYJvqHYHPWDrQ=s64",
      "userId": "08411018339550602261"
     },
     "user_tz": -120
    },
    "id": "0YthjwXEIE3b",
    "outputId": "99471290-4da3-4f4f-b7ad-e04353753c1d"
   },
   "outputs": [
    {
     "name": "stdout",
     "output_type": "stream",
     "text": [
      "       pain_cereales_bio  fruits_legumes_bio  produits_laitiers_bio  viandes_poissons_bio\n",
      "count        2288.000000         2288.000000            2288.000000           2288.000000\n",
      "mean            0.350962            0.392045               0.695367              0.496066\n",
      "std             0.677961            0.707674               0.928269              0.736328\n",
      "min             0.000000            0.000000               0.000000              0.000000\n",
      "25%             0.000000            0.000000               0.000000              0.000000\n",
      "50%             0.000000            0.000000               0.000000              0.000000\n",
      "75%             1.000000            1.000000               1.000000              1.000000\n",
      "max             3.000000            3.000000               3.000000              3.000000\n"
     ]
    }
   ],
   "source": [
    "print(df_base[['pain_cereales_bio', 'fruits_legumes_bio', 'produits_laitiers_bio', 'viandes_poissons_bio']].describe())"
   ]
  },
  {
   "cell_type": "code",
   "execution_count": 12,
   "metadata": {
    "colab": {
     "base_uri": "https://localhost:8080/",
     "height": 170
    },
    "colab_type": "code",
    "executionInfo": {
     "elapsed": 483,
     "status": "ok",
     "timestamp": 1587153122604,
     "user": {
      "displayName": "Francois Labastie",
      "photoUrl": "https://lh3.googleusercontent.com/a-/AOh14GgjdsEAZ8v1_v77WQtmAamqsn2qduYJvqHYHPWDrQ=s64",
      "userId": "08411018339550602261"
     },
     "user_tz": -120
    },
    "id": "av1YFo22IJcL",
    "outputId": "bb603793-d48b-4db5-c1a4-183daf7e0c7e"
   },
   "outputs": [
    {
     "name": "stdout",
     "output_type": "stream",
     "text": [
      "       restaurationrapide_freq  collation_freq\n",
      "count              2288.000000     2288.000000\n",
      "mean                  1.569073        2.624239\n",
      "std                   0.809681        0.975023\n",
      "min                   1.000000        1.000000\n",
      "25%                   1.000000        2.000000\n",
      "50%                   1.184441        2.066871\n",
      "75%                   2.000000        3.000000\n",
      "max                   6.000000        5.000000\n"
     ]
    }
   ],
   "source": [
    "print(df_base[['restaurationrapide_freq', 'collation_freq']].describe())"
   ]
  },
  {
   "cell_type": "markdown",
   "metadata": {
    "colab_type": "text",
    "id": "DzzFZugU95FH"
   },
   "source": [
    "### Univar"
   ]
  },
  {
   "cell_type": "code",
   "execution_count": 13,
   "metadata": {
    "colab": {
     "base_uri": "https://localhost:8080/",
     "height": 220
    },
    "colab_type": "code",
    "executionInfo": {
     "elapsed": 591,
     "status": "ok",
     "timestamp": 1587153125014,
     "user": {
      "displayName": "Francois Labastie",
      "photoUrl": "https://lh3.googleusercontent.com/a-/AOh14GgjdsEAZ8v1_v77WQtmAamqsn2qduYJvqHYHPWDrQ=s64",
      "userId": "08411018339550602261"
     },
     "user_tz": -120
    },
    "id": "0hU_ei0M2qYO",
    "outputId": "883ce75b-24ed-478b-c292-08a9322c3243"
   },
   "outputs": [
    {
     "data": {
      "image/png": "[encoded data removed]",
      "text/plain": [
       "<Figure size 144x144 with 1 Axes>"
      ]
     },
     "metadata": {},
     "output_type": "display_data"
    }
   ],
   "source": [
    "description_indiv(df_base, 'sex_PS', ['1', '2'], ['Hommes', 'Femmes'], 2, 2, 'Sexe', 'Individus (%)', 45)"
   ]
  },
  {
   "cell_type": "code",
   "execution_count": 14,
   "metadata": {
    "colab": {
     "base_uri": "https://localhost:8080/",
     "height": 224
    },
    "colab_type": "code",
    "executionInfo": {
     "elapsed": 897,
     "status": "ok",
     "timestamp": 1587153126655,
     "user": {
      "displayName": "Francois Labastie",
      "photoUrl": "https://lh3.googleusercontent.com/a-/AOh14GgjdsEAZ8v1_v77WQtmAamqsn2qduYJvqHYHPWDrQ=s64",
      "userId": "08411018339550602261"
     },
     "user_tz": -120
    },
    "id": "bsZuy3mw8fvK",
    "outputId": "b309b647-6cc5-4359-d538-53e2eaee941b"
   },
   "outputs": [
    {
     "data": {
      "image/png": "[encoded data removed]",
      "text/plain": [
       "<Figure size 144x144 with 1 Axes>"
      ]
     },
     "metadata": {},
     "output_type": "display_data"
    }
   ],
   "source": [
    "# variable 'tage_PS'\n",
    "description_indiv(df_base, 'tage_PS', \\\n",
    "                  ['1', '2', '3', '4', '5', '6', '7', '8', '9'], \\\n",
    "                  ['0-11 mois', '1-3 ans', '4-6 ans', '7-10 ans', '11-14 ans', '15-17 ans', '18-44 ans', '45-64 ans', '65-79 ans'], \\\n",
    "                  2, 2, 'Ages', 'Individus (%)', 45)"
   ]
  },
  {
   "cell_type": "code",
   "execution_count": 15,
   "metadata": {
    "colab": {
     "base_uri": "https://localhost:8080/",
     "height": 301
    },
    "colab_type": "code",
    "executionInfo": {
     "elapsed": 858,
     "status": "ok",
     "timestamp": 1587153128300,
     "user": {
      "displayName": "Francois Labastie",
      "photoUrl": "https://lh3.googleusercontent.com/a-/AOh14GgjdsEAZ8v1_v77WQtmAamqsn2qduYJvqHYHPWDrQ=s64",
      "userId": "08411018339550602261"
     },
     "user_tz": -120
    },
    "id": "LLE15rr98ygB",
    "outputId": "1a9a57e9-5f4f-4120-f931-a23215a53844"
   },
   "outputs": [
    {
     "data": {
      "image/png": "[encoded data removed]",
      "text/plain": [
       "<Figure size 576x216 with 1 Axes>"
      ]
     },
     "metadata": {},
     "output_type": "display_data"
    }
   ],
   "source": [
    "# variable 'revenu'\n",
    "description_indiv(df_base, 'revenu', \\\n",
    "                  ['1', '2', '3', '4', '5', '6', '7', '8', '9', '10', '11', '12', '13'], \\\n",
    "                  ['<380', '[380-530[', '[530-690[', '[690-840[', '[840-990[', \\\n",
    "                   '[990-1300[', '[1300-1600[', '[1600-1900[', '[1900-2200[', \\\n",
    "                   '[2200-2500[', '[2500-3100[', '[3100-4600[', '>=4600'], \\\n",
    "                  8, 3, 'Revenus des foyers en €/mois', 'Individus (%)', 60)"
   ]
  },
  {
   "cell_type": "code",
   "execution_count": 16,
   "metadata": {
    "colab": {
     "base_uri": "https://localhost:8080/",
     "height": 301
    },
    "colab_type": "code",
    "executionInfo": {
     "elapsed": 1484,
     "status": "ok",
     "timestamp": 1587153130541,
     "user": {
      "displayName": "Francois Labastie",
      "photoUrl": "https://lh3.googleusercontent.com/a-/AOh14GgjdsEAZ8v1_v77WQtmAamqsn2qduYJvqHYHPWDrQ=s64",
      "userId": "08411018339550602261"
     },
     "user_tz": -120
    },
    "id": "9dsGRY5X869T",
    "outputId": "5fd106d9-fdde-46ff-ab72-a31e4d6a78e0"
   },
   "outputs": [
    {
     "data": {
      "image/png": "[encoded data removed]",
      "text/plain": [
       "<Figure size 1296x288 with 2 Axes>"
      ]
     },
     "metadata": {},
     "output_type": "display_data"
    }
   ],
   "source": [
    "df_base_disp(['imc', 'sedentarite_duree'], 18, 4)"
   ]
  },
  {
   "cell_type": "code",
   "execution_count": 17,
   "metadata": {
    "colab": {
     "base_uri": "https://localhost:8080/",
     "height": 326
    },
    "colab_type": "code",
    "executionInfo": {
     "elapsed": 786,
     "status": "ok",
     "timestamp": 1587153136277,
     "user": {
      "displayName": "Francois Labastie",
      "photoUrl": "https://lh3.googleusercontent.com/a-/AOh14GgjdsEAZ8v1_v77WQtmAamqsn2qduYJvqHYHPWDrQ=s64",
      "userId": "08411018339550602261"
     },
     "user_tz": -120
    },
    "id": "_O8c1DDX3DqK",
    "outputId": "ffd956a5-83a1-4b6f-8fde-733aa314560a"
   },
   "outputs": [
    {
     "data": {
      "image/png": "[encoded data removed]",
      "text/plain": [
       "<Figure size 144x288 with 1 Axes>"
      ]
     },
     "metadata": {},
     "output_type": "display_data"
    }
   ],
   "source": [
    "# variables tage_PS & imc\n",
    "boxplot(df_base, 'tage_PS', 'imc', ['7','8', '9'], ['18-44 ans', '45-64 ans', '65-79 ans'], 2, 4, 'Ages', 'imc', angle=45)"
   ]
  },
  {
   "cell_type": "code",
   "execution_count": 18,
   "metadata": {
    "colab": {
     "base_uri": "https://localhost:8080/",
     "height": 326
    },
    "colab_type": "code",
    "executionInfo": {
     "elapsed": 1025,
     "status": "ok",
     "timestamp": 1587153138466,
     "user": {
      "displayName": "Francois Labastie",
      "photoUrl": "https://lh3.googleusercontent.com/a-/AOh14GgjdsEAZ8v1_v77WQtmAamqsn2qduYJvqHYHPWDrQ=s64",
      "userId": "08411018339550602261"
     },
     "user_tz": -120
    },
    "id": "QktzPYxAS3-k",
    "outputId": "3caadaac-dcaf-4d6a-d0a5-57b7832fc320"
   },
   "outputs": [
    {
     "data": {
      "image/png": "[encoded data removed]",
      "text/plain": [
       "<Figure size 144x288 with 1 Axes>"
      ]
     },
     "metadata": {},
     "output_type": "display_data"
    }
   ],
   "source": [
    "# variables tage_PS & sedentarite_duree\n",
    "boxplot(df_base, 'tage_PS', 'sedentarite_duree', ['7','8', '9'], ['18-44 ans', '45-64 ans', '65-79 ans'], 2, 4, 'Ages', 'sedentarite_duree', angle=45)"
   ]
  },
  {
   "cell_type": "markdown",
   "metadata": {
    "colab_type": "text",
    "id": "NrGFiqjbQ_4a"
   },
   "source": [
    "## Bivariée"
   ]
  },
  {
   "cell_type": "code",
   "execution_count": 19,
   "metadata": {
    "colab": {
     "base_uri": "https://localhost:8080/",
     "height": 54
    },
    "colab_type": "code",
    "executionInfo": {
     "elapsed": 518,
     "status": "ok",
     "timestamp": 1587153140607,
     "user": {
      "displayName": "Francois Labastie",
      "photoUrl": "https://lh3.googleusercontent.com/a-/AOh14GgjdsEAZ8v1_v77WQtmAamqsn2qduYJvqHYHPWDrQ=s64",
      "userId": "08411018339550602261"
     },
     "user_tz": -120
    },
    "id": "sXaFH4Y3RXcm",
    "outputId": "2683e450-5684-496e-ef70-17b8ae9074bd"
   },
   "outputs": [
    {
     "name": "stdout",
     "output_type": "stream",
     "text": [
      "['NOIND', 'agglo_5cl', 'sex_PS', 'tage_PS', 'diplome_interv', 'revenu', 'imc', 'fume', 'restaurationrapide_freq', 'collation_freq', 'pain_cereales_bio', 'fruits_legumes_bio', 'produits_laitiers_bio', 'viandes_poissons_bio', 'consommation_bio', 'tv_duree', 'ordi_duree', 'travail_duree', 'sedentarite_duree', 'activite_total_duree', 'activite_domloissport_duree', 'ID']\n"
     ]
    }
   ],
   "source": [
    "print(list(df_base))"
   ]
  },
  {
   "cell_type": "code",
   "execution_count": 62,
   "metadata": {
    "colab": {
     "base_uri": "https://localhost:8080/",
     "height": 571
    },
    "colab_type": "code",
    "executionInfo": {
     "elapsed": 1008,
     "status": "ok",
     "timestamp": 1587153142317,
     "user": {
      "displayName": "Francois Labastie",
      "photoUrl": "https://lh3.googleusercontent.com/a-/AOh14GgjdsEAZ8v1_v77WQtmAamqsn2qduYJvqHYHPWDrQ=s64",
      "userId": "08411018339550602261"
     },
     "user_tz": -120
    },
    "id": "Qhc3x2WVRCOL",
    "outputId": "b42f329a-b245-49d8-c22b-89c2f25133b2"
   },
   "outputs": [
    {
     "data": {
      "text/plain": [
       "<matplotlib.axes._subplots.AxesSubplot at 0x1a187fc590>"
      ]
     },
     "execution_count": 62,
     "metadata": {},
     "output_type": "execute_result"
    },
    {
     "data": {
      "image/png": "[encoded data removed]",
      "text/plain": [
       "<Figure size 576x576 with 2 Axes>"
      ]
     },
     "metadata": {},
     "output_type": "display_data"
    }
   ],
   "source": [
    "# https://seaborn.pydata.org/examples/many_pairwise_correlations.html\n",
    "\n",
    "# sns.set(style=\"white\")\n",
    "\n",
    "selected_columns = ['revenu', 'imc', 'restaurationrapide_freq', 'collation_freq', 'pain_cereales_bio', \n",
    "                    'fruits_legumes_bio', 'produits_laitiers_bio', 'viandes_poissons_bio', 'tv_duree', 'ordi_duree', \n",
    "                    'travail_duree', 'sedentarite_duree', 'activite_total_duree', 'activite_domloissport_duree']\n",
    "\n",
    "# Generate dataset\n",
    "d = pd.DataFrame(data=df_base[selected_columns].values, columns=selected_columns)\n",
    "\n",
    "# Compute the correlation matrix\n",
    "corr = d.corr()\n",
    "\n",
    "# Generate a mask for the upper triangle\n",
    "mask = np.triu(np.ones_like(corr, dtype=np.bool))\n",
    "\n",
    "# Set up the matplotlib figure\n",
    "f, ax = plt.subplots(figsize=(8, 8))\n",
    "\n",
    "# Generate a custom diverging colormap\n",
    "cmap = sns.diverging_palette(220, 10, as_cmap=True)\n",
    "\n",
    "# Draw the heatmap with the mask and correct aspect ratio\n",
    "sns.heatmap(corr, mask=mask, cmap=cmap, vmax=.3, center=0, square=True, linewidths=.5, cbar_kws={\"shrink\": .5})"
   ]
  },
  {
   "cell_type": "code",
   "execution_count": 79,
   "metadata": {
    "scrolled": true
   },
   "outputs": [
    {
     "name": "stdout",
     "output_type": "stream",
     "text": [
      "                                  imc    revenu  restaurationrapide_freq\n",
      "revenu                      -0.058637  1.000000                 0.047892\n",
      "imc                          1.000000 -0.058637                -0.065057\n",
      "restaurationrapide_freq     -0.065057  0.047892                 1.000000\n",
      "collation_freq              -0.034055 -0.059593                 0.072464\n",
      "pain_cereales_bio           -0.101743  0.063102                -0.049156\n",
      "fruits_legumes_bio          -0.152221  0.058012                -0.043387\n",
      "produits_laitiers_bio       -0.160485  0.108378                -0.020814\n",
      "viandes_poissons_bio        -0.143287  0.104765                -0.022519\n",
      "tv_duree                     0.241430 -0.160544                -0.053279\n",
      "ordi_duree                   0.036450 -0.099363                 0.118202\n",
      "travail_duree               -0.095322  0.168463                 0.180350\n",
      "sedentarite_duree            0.099624  0.050035                 0.205163\n",
      "activite_total_duree         0.041518  0.043568                 0.170937\n",
      "activite_domloissport_duree  0.005860 -0.060457                -0.123610\n"
     ]
    }
   ],
   "source": [
    "print(corr[['imc', 'revenu', 'restaurationrapide_freq']])"
   ]
  },
  {
   "cell_type": "code",
   "execution_count": 51,
   "metadata": {
    "colab": {
     "base_uri": "https://localhost:8080/",
     "height": 365
    },
    "colab_type": "code",
    "executionInfo": {
     "elapsed": 1185,
     "status": "ok",
     "timestamp": 1587153144847,
     "user": {
      "displayName": "Francois Labastie",
      "photoUrl": "https://lh3.googleusercontent.com/a-/AOh14GgjdsEAZ8v1_v77WQtmAamqsn2qduYJvqHYHPWDrQ=s64",
      "userId": "08411018339550602261"
     },
     "user_tz": -120
    },
    "id": "u57DBE2pUqxN",
    "outputId": "082b610c-6199-469b-f372-9a533bc80ac4"
   },
   "outputs": [
    {
     "data": {
      "image/png": "[encoded data removed]",
      "text/plain": [
       "<Figure size 360x360 with 1 Axes>"
      ]
     },
     "metadata": {},
     "output_type": "display_data"
    }
   ],
   "source": [
    "# Relations fruits_legumes & imc\n",
    "df_relplot(df_base, 'activite_total_duree', 'imc')"
   ]
  },
  {
   "cell_type": "code",
   "execution_count": 28,
   "metadata": {
    "colab": {},
    "colab_type": "code",
    "id": "77Hdl2GuZMwI"
   },
   "outputs": [],
   "source": [
    "# fit = statsmodels.formula.api.ols('val ~ lab', data = df_base).fit()\n",
    "\n",
    "# mod = smf.ols(formula='agglo_5cl ~ Literacy + Wealth + Region', data=df)"
   ]
  }
 ],
 "metadata": {
  "colab": {
   "authorship_tag": "ABX9TyN5AiHpGbECw/+HuFVu7f6S",
   "collapsed_sections": [
    "ygNIt84q5lSB"
   ],
   "name": "pop2_unibivar.ipynb",
   "provenance": []
  },
  "kernelspec": {
   "display_name": "Python 3",
   "language": "python",
   "name": "python3"
  },
  "language_info": {
   "codemirror_mode": {
    "name": "ipython",
    "version": 3
   },
   "file_extension": ".py",
   "mimetype": "text/x-python",
   "name": "python",
   "nbconvert_exporter": "python",
   "pygments_lexer": "ipython3",
   "version": "3.7.7"
  }
 },
 "nbformat": 4,
 "nbformat_minor": 1
}
